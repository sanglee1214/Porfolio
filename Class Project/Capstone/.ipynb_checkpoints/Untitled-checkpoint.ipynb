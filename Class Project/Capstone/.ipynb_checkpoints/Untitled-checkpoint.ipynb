{
 "cells": [
  {
   "cell_type": "markdown",
   "metadata": {},
   "source": [
    "# Getting started\n",
    "I need to create a model that will be more accurate than compilation of experts' projections. In order to do that, I need to get the data for the 2015 season along with 2015's preseason projections made by the experts. My goal would be to use the stats from previous season to beat the accuracy score of the experts' projections. My models will be segmented by each positions and perform different regression models such as linear, Lasso, random forest, and few other models for each positions.\n",
    "\n",
    "The current risk I foresee is that some players will get injured, suspended, or retire. Also, I don't have any data on any rookie players. The age needs to be considered. Since players are humans, they cannot perform exactly the same every season.\n"
   ]
  },
  {
   "cell_type": "code",
   "execution_count": 380,
   "metadata": {
    "collapsed": true
   },
   "outputs": [],
   "source": [
    "import requests\n",
    "import bs4\n",
    "from bs4 import BeautifulSoup\n",
    "import urllib2\n",
    "import pandas as pd\n",
    "import numpy as np\n",
    "from sqlalchemy import create_engine\n",
    "import matplotlib.pyplot as plt\n",
    "import seaborn as sns\n",
    "%matplotlib inline\n",
    "\n",
    "#function that will group rows together\n",
    "def group(iterator, count):\n",
    "    itr = iter(iterator)\n",
    "    while True:\n",
    "        yield tuple([itr.next() for i in range(count)])\n"
   ]
  },
  {
   "cell_type": "markdown",
   "metadata": {},
   "source": [
    "# Data Mining for 2015 preseason projections\n"
   ]
  },
  {
   "cell_type": "code",
   "execution_count": 381,
   "metadata": {
    "collapsed": false
   },
   "outputs": [
    {
     "name": "stdout",
     "output_type": "stream",
     "text": [
      "<class 'pandas.core.frame.DataFrame'>\n",
      "RangeIndex: 76 entries, 0 to 75\n",
      "Data columns (total 12 columns):\n",
      "Player             76 non-null object\n",
      "Postion            76 non-null object\n",
      "Pass_Attempt       76 non-null object\n",
      "Pass_Completion    76 non-null object\n",
      "Pass_Yards         76 non-null object\n",
      "Pass_Touchdowns    76 non-null object\n",
      "Interceptions      76 non-null object\n",
      "Rush_Attempt       76 non-null object\n",
      "Rush_Yards         76 non-null object\n",
      "Rush_Touchdowns    76 non-null object\n",
      "Fumbles_Lost       76 non-null object\n",
      "Fantasy_Points     76 non-null object\n",
      "dtypes: object(12)\n",
      "memory usage: 7.2+ KB\n"
     ]
    }
   ],
   "source": [
    "#scraping the 2015 QB projection page from fantasypros\n",
    "soupQB = BeautifulSoup(requests.get('https://www.fantasypros.com/nfl/projections/qb.php?year=2015&week=draft').text)\n",
    "\n",
    "#find the body of the table\n",
    "data_QB = soupQB('table')[1].findAll('tbody')[0].text.strip().split()\n",
    "\n",
    "#list of team initials for the entire NFL teams\n",
    "teamList = ['NE','NYJ','MIA','BUF','PIT','BAL','CLE','CIN','HOU','IND',\n",
    "            'JAC','TEN','DEN','KC','SD','OAK','DAL','WAS','NYG','PHI',\n",
    "            'MIN','GB','DET','CHI','NO','TB','ATL','CAR','SF','SEA','ARI','STL','LA']\n",
    "\n",
    "#get rid of the teams\n",
    "data_QB_noTeam = [i for i in data_QB if i not in teamList]\n",
    "\n",
    "#recreate the table from the website into pandas dataframe\n",
    "dfQB = pd.DataFrame(list(group(data_QB_noTeam, 12)))\n",
    "\n",
    "#join first name and last name together into the same column\n",
    "dfQB[0] = dfQB[[0,1]].apply(lambda x: ' '.join(x),axis=1)\n",
    "\n",
    "#drop the last name column\n",
    "del dfQB[1]\n",
    "\n",
    "#insert a column for the type of position. For this table, QB.\n",
    "\n",
    "dfQB.insert(1, 'Position', 'QB')\n",
    "\n",
    "#column name for this table\n",
    "column_QB = ['Player','Postion','Pass_Attempt','Pass_Completion','Pass_Yards','Pass_Touchdowns','Interceptions',\n",
    "                 'Rush_Attempt','Rush_Yards','Rush_Touchdowns','Fumbles_Lost','Fantasy_Points']\n",
    "\n",
    "#set the columns\n",
    "dfQB.columns = column_QB\n",
    "\n",
    "dfQB.info()"
   ]
  },
  {
   "cell_type": "code",
   "execution_count": 382,
   "metadata": {
    "collapsed": false
   },
   "outputs": [
    {
     "name": "stdout",
     "output_type": "stream",
     "text": [
      "<class 'pandas.core.frame.DataFrame'>\n",
      "RangeIndex: 152 entries, 0 to 151\n",
      "Data columns (total 10 columns):\n",
      "Player                152 non-null object\n",
      "Postion               152 non-null object\n",
      "Rush_Attempt          152 non-null object\n",
      "Rush_Yards            152 non-null object\n",
      "Rush_Touchdowns       152 non-null object\n",
      "Rec                   152 non-null object\n",
      "Receive_Yards         152 non-null object\n",
      "Receive_Touchdowns    152 non-null object\n",
      "Fumbles_Lost          152 non-null object\n",
      "Fantasy_Points        152 non-null object\n",
      "dtypes: object(10)\n",
      "memory usage: 11.9+ KB\n"
     ]
    }
   ],
   "source": [
    "#scraping the 2015 RB projection page from fantasypros\n",
    "soupRB = BeautifulSoup(requests.get('https://www.fantasypros.com/nfl/projections/rb.php?year=2015&week=draft').text)\n",
    "\n",
    "data_RB = soupRB('table')[1].findAll('tbody')[0].text.strip().split()\n",
    "\n",
    "data_RB_noTeam = [i for i in data_RB if i not in teamList]\n",
    "\n",
    "dfRB = pd.DataFrame(list(group(data_RB_noTeam, 10)))\n",
    "\n",
    "dfRB[0] = dfRB[[0,1]].apply(lambda x: ' '.join(x),axis=1)\n",
    "\n",
    "del dfRB[1]\n",
    "\n",
    "dfRB.insert(1, 'Position', 'RB')\n",
    "\n",
    "column_RB = ['Player','Postion','Rush_Attempt','Rush_Yards','Rush_Touchdowns','Rec','Receive_Yards','Receive_Touchdowns',\n",
    "             'Fumbles_Lost','Fantasy_Points']\n",
    "\n",
    "dfRB.columns = column_RB\n",
    "\n",
    "dfRB.info()"
   ]
  },
  {
   "cell_type": "code",
   "execution_count": 383,
   "metadata": {
    "collapsed": false
   },
   "outputs": [
    {
     "name": "stdout",
     "output_type": "stream",
     "text": [
      "<class 'pandas.core.frame.DataFrame'>\n",
      "RangeIndex: 163 entries, 0 to 162\n",
      "Data columns (total 10 columns):\n",
      "Player                163 non-null object\n",
      "Postion               163 non-null object\n",
      "Rush_Attempt          163 non-null object\n",
      "Rush_Yards            163 non-null object\n",
      "Rush_Touchdowns       163 non-null object\n",
      "Rec                   163 non-null object\n",
      "Receive_Yards         163 non-null object\n",
      "Receive_Touchdowns    163 non-null object\n",
      "Fumbles_Lost          163 non-null object\n",
      "Fantasy_Points        163 non-null object\n",
      "dtypes: object(10)\n",
      "memory usage: 12.8+ KB\n"
     ]
    }
   ],
   "source": [
    "#scraping the RB page\n",
    "soupWR = BeautifulSoup(requests.get('https://www.fantasypros.com/nfl/projections/wr.php?year=2015&week=draft').text)\n",
    "\n",
    "data_WR = soupWR('table')[1].findAll('tbody')[0].text.strip().split()\n",
    "\n",
    "data_WR_noTeam = [i for i in data_WR if i not in teamList]\n",
    "\n",
    "dfWR = pd.DataFrame(list(group(data_WR_noTeam, 10)))\n",
    "\n",
    "dfWR[0] = dfWR[[0,1]].apply(lambda x: ' '.join(x),axis=1)\n",
    "\n",
    "del dfWR[1]\n",
    "\n",
    "dfWR.insert(1, 'Position', 'WR')\n",
    "\n",
    "column_WR = ['Player','Postion','Rush_Attempt','Rush_Yards','Rush_Touchdowns','Rec','Receive_Yards','Receive_Touchdowns',\n",
    "             'Fumbles_Lost','Fantasy_Points']\n",
    "\n",
    "dfWR.columns = column_WR\n",
    "\n",
    "dfWR.info()"
   ]
  },
  {
   "cell_type": "code",
   "execution_count": 384,
   "metadata": {
    "collapsed": false
   },
   "outputs": [
    {
     "name": "stdout",
     "output_type": "stream",
     "text": [
      "<class 'pandas.core.frame.DataFrame'>\n",
      "RangeIndex: 95 entries, 0 to 94\n",
      "Data columns (total 7 columns):\n",
      "Player                95 non-null object\n",
      "Postion               95 non-null object\n",
      "Rec                   95 non-null object\n",
      "Receive_Yards         95 non-null object\n",
      "Receive_Touchdowns    95 non-null object\n",
      "Fumbles_Lost          95 non-null object\n",
      "Fantasy_Points        95 non-null object\n",
      "dtypes: object(7)\n",
      "memory usage: 5.3+ KB\n"
     ]
    }
   ],
   "source": [
    "#scraping the TE page\n",
    "soupTE = BeautifulSoup(requests.get('https://www.fantasypros.com/nfl/projections/te.php?year=2015&week=draft').text)\n",
    "\n",
    "data_TE = soupTE('table')[1].findAll('tbody')[0].text.strip().split()\n",
    "\n",
    "data_TE_noTeam = [i for i in data_TE if i not in teamList]\n",
    "\n",
    "dfTE = pd.DataFrame(list(group(data_TE_noTeam, 7)))\n",
    "\n",
    "dfTE[0] = dfTE[[0,1]].apply(lambda x: ' '.join(x),axis=1)\n",
    "\n",
    "del dfTE[1]\n",
    "\n",
    "dfTE.insert(1, 'Position', 'TE')\n",
    "\n",
    "column_TE = ['Player','Postion','Rec','Receive_Yards','Receive_Touchdowns','Fumbles_Lost','Fantasy_Points']\n",
    "\n",
    "dfTE.columns = column_TE\n",
    "\n",
    "dfTE.info()"
   ]
  },
  {
   "cell_type": "code",
   "execution_count": 385,
   "metadata": {
    "collapsed": false
   },
   "outputs": [
    {
     "name": "stdout",
     "output_type": "stream",
     "text": [
      "<class 'pandas.core.frame.DataFrame'>\n",
      "RangeIndex: 32 entries, 0 to 31\n",
      "Data columns (total 6 columns):\n",
      "Player            32 non-null object\n",
      "Postion           32 non-null object\n",
      "FGM               32 non-null object\n",
      "FGA               32 non-null object\n",
      "Fumbles_Lost      32 non-null object\n",
      "Fantasy_Points    32 non-null object\n",
      "dtypes: object(6)\n",
      "memory usage: 1.6+ KB\n"
     ]
    }
   ],
   "source": [
    "#scraping the Kickers page\n",
    "soupK = BeautifulSoup(requests.get('https://www.fantasypros.com/nfl/projections/k.php?year=2015&week=draft').text)\n",
    "\n",
    "data_K = soupK('table')[1].findAll('tbody')[0].text.strip().split()\n",
    "\n",
    "data_K_noTeam = [i for i in data_K if i not in teamList]\n",
    "\n",
    "dfK = pd.DataFrame(list(group(data_K_noTeam, 6)))\n",
    "\n",
    "dfK[0] = dfK[[0,1]].apply(lambda x: ' '.join(x),axis=1)\n",
    "\n",
    "del dfK[1]\n",
    "\n",
    "dfK.insert(1, 'Position', 'K')\n",
    "\n",
    "column_K = ['Player','Postion','FGM','FGA','Fumbles_Lost','Fantasy_Points']\n",
    "\n",
    "dfK.columns = column_K\n",
    "\n",
    "dfK.info()\n"
   ]
  },
  {
   "cell_type": "markdown",
   "metadata": {},
   "source": [
    "\n",
    "| Columns | Descriptions| Type\n",
    "|------|------|------|\n",
    "|Player| First and Last name of players| Categorical|\n",
    "|Position| Position of players| Categorical|\n",
    "|Pass_Attempt| number of attempts by passing| Discrete/integer|\n",
    "|Pass_Completion| number of completions by passing| Discrete/integer|\n",
    "|Pass_Yards| number of yards by passing|Discrete/integer|\n",
    "|Pass_Touchdowns| number of touchdowns by passing |Discrete/integer|\n",
    "|Interceptions| number of interceptions|Discrete/integer|\n",
    "|Rush_Attempt| number of rush attempts|Discrete/integer|\n",
    "|Rush_Yards| number of yards by rushing|Discrete/integer|\n",
    "|Rush_Touchdowns| number of touchdowns by rushing|Discrete/integer|\n",
    "|Fumbles_Lost| number of fumbles|Discrete/integer|\n",
    "|Fantasy_Points| total fantasy points|Continuous/float|\n",
    "|Rec| number of receptions|Discrete/integer|\n",
    "|Receive_Yards| number of yards by reception|Discrete/integer|\n",
    "|Receive_Touchdowns| number of touchdowns by reception|Discrete/integer|\n",
    "|FGM| Field Goals Made|Discrete/integer|\n",
    "|FGA| Field Goal Attempts|Discrete/integer|\n"
   ]
  },
  {
   "cell_type": "markdown",
   "metadata": {},
   "source": [
    "# Data Mining for 2015 Actual Results"
   ]
  },
  {
   "cell_type": "code",
   "execution_count": 386,
   "metadata": {
    "collapsed": false
   },
   "outputs": [
    {
     "data": {
      "text/html": [
       "<div>\n",
       "<table border=\"1\" class=\"dataframe\">\n",
       "  <thead>\n",
       "    <tr style=\"text-align: right;\">\n",
       "      <th></th>\n",
       "      <th>Rank</th>\n",
       "      <th>Player</th>\n",
       "      <th>Team</th>\n",
       "      <th>Position</th>\n",
       "      <th>Total_Points</th>\n",
       "      <th>Games_Played</th>\n",
       "      <th>Avg_Points</th>\n",
       "    </tr>\n",
       "  </thead>\n",
       "  <tbody>\n",
       "    <tr>\n",
       "      <th>0</th>\n",
       "      <td>1</td>\n",
       "      <td>Cam Newton</td>\n",
       "      <td>CAR</td>\n",
       "      <td>QB</td>\n",
       "      <td>389.1</td>\n",
       "      <td>16</td>\n",
       "      <td>24.3</td>\n",
       "    </tr>\n",
       "    <tr>\n",
       "      <th>1</th>\n",
       "      <td>2</td>\n",
       "      <td>Tom Brady</td>\n",
       "      <td>NE</td>\n",
       "      <td>QB</td>\n",
       "      <td>343.7</td>\n",
       "      <td>16</td>\n",
       "      <td>21.5</td>\n",
       "    </tr>\n",
       "    <tr>\n",
       "      <th>2</th>\n",
       "      <td>3</td>\n",
       "      <td>Russell Wilson</td>\n",
       "      <td>SEA</td>\n",
       "      <td>QB</td>\n",
       "      <td>336.4</td>\n",
       "      <td>16</td>\n",
       "      <td>21.0</td>\n",
       "    </tr>\n",
       "    <tr>\n",
       "      <th>3</th>\n",
       "      <td>4</td>\n",
       "      <td>Blake Bortles</td>\n",
       "      <td>JAC</td>\n",
       "      <td>QB</td>\n",
       "      <td>316.1</td>\n",
       "      <td>16</td>\n",
       "      <td>19.8</td>\n",
       "    </tr>\n",
       "    <tr>\n",
       "      <th>4</th>\n",
       "      <td>5</td>\n",
       "      <td>Carson Palmer</td>\n",
       "      <td>ARI</td>\n",
       "      <td>QB</td>\n",
       "      <td>309.2</td>\n",
       "      <td>16</td>\n",
       "      <td>19.3</td>\n",
       "    </tr>\n",
       "  </tbody>\n",
       "</table>\n",
       "</div>"
      ],
      "text/plain": [
       "  Rank          Player Team Position Total_Points Games_Played Avg_Points\n",
       "0    1      Cam Newton  CAR       QB        389.1           16       24.3\n",
       "1    2       Tom Brady   NE       QB        343.7           16       21.5\n",
       "2    3  Russell Wilson  SEA       QB        336.4           16       21.0\n",
       "3    4   Blake Bortles  JAC       QB        316.1           16       19.8\n",
       "4    5   Carson Palmer  ARI       QB        309.2           16       19.3"
      ]
     },
     "execution_count": 386,
     "metadata": {},
     "output_type": "execute_result"
    }
   ],
   "source": [
    "#actual fantasy points\n",
    "soup_results = BeautifulSoup(requests.get('https://www.fantasypros.com/nfl/reports/leaders/').text)\n",
    "\n",
    "data_results = [i.text for i in soup_results('table')[0].findAll('td')]\n",
    "\n",
    "column_results = ['Rank','Player', 'Team','Position','Total_Points','Games_Played','Avg_Points']\n",
    "dfResults = pd.DataFrame(list(group(data_results,7)),columns=column_results)\n",
    "dfResults.head()"
   ]
  },
  {
   "cell_type": "markdown",
   "metadata": {},
   "source": [
    "# Setting up Postgresql Database"
   ]
  },
  {
   "cell_type": "code",
   "execution_count": 387,
   "metadata": {
    "collapsed": false
   },
   "outputs": [],
   "source": [
    "#!brew install postgresql\n",
    "#!brew services stop postgresql\n",
    "#!brew services start postgresql\n",
    "#!createdb fantasyfootball\n"
   ]
  },
  {
   "cell_type": "code",
   "execution_count": 388,
   "metadata": {
    "collapsed": false
   },
   "outputs": [
    {
     "data": {
      "text/html": [
       "<div>\n",
       "<table border=\"1\" class=\"dataframe\">\n",
       "  <thead>\n",
       "    <tr style=\"text-align: right;\">\n",
       "      <th></th>\n",
       "      <th>player</th>\n",
       "      <th>team</th>\n",
       "      <th>fantasy_points</th>\n",
       "    </tr>\n",
       "  </thead>\n",
       "  <tbody>\n",
       "    <tr>\n",
       "      <th>0</th>\n",
       "      <td>Cam Newton</td>\n",
       "      <td>CAR</td>\n",
       "      <td>278.9</td>\n",
       "    </tr>\n",
       "    <tr>\n",
       "      <th>1</th>\n",
       "      <td>Tom Brady</td>\n",
       "      <td>NE</td>\n",
       "      <td>281.2</td>\n",
       "    </tr>\n",
       "    <tr>\n",
       "      <th>2</th>\n",
       "      <td>Russell Wilson</td>\n",
       "      <td>SEA</td>\n",
       "      <td>303.2</td>\n",
       "    </tr>\n",
       "    <tr>\n",
       "      <th>3</th>\n",
       "      <td>Blake Bortles</td>\n",
       "      <td>JAC</td>\n",
       "      <td>205.5</td>\n",
       "    </tr>\n",
       "    <tr>\n",
       "      <th>4</th>\n",
       "      <td>Carson Palmer</td>\n",
       "      <td>ARI</td>\n",
       "      <td>232.8</td>\n",
       "    </tr>\n",
       "  </tbody>\n",
       "</table>\n",
       "</div>"
      ],
      "text/plain": [
       "           player team fantasy_points\n",
       "0      Cam Newton  CAR          278.9\n",
       "1       Tom Brady   NE          281.2\n",
       "2  Russell Wilson  SEA          303.2\n",
       "3   Blake Bortles  JAC          205.5\n",
       "4   Carson Palmer  ARI          232.8"
      ]
     },
     "execution_count": 388,
     "metadata": {},
     "output_type": "execute_result"
    }
   ],
   "source": [
    "#create an engine for localhost\n",
    "engine = create_engine('postgresql://:@localhost:5432/fantasyfootball')\n",
    "\n",
    "#lowercase all column names\n",
    "dfQB.columns = [c.lower() for c in dfQB.columns]\n",
    "dfRB.columns = [c.lower() for c in dfRB.columns]\n",
    "dfWR.columns = [c.lower() for c in dfWR.columns]\n",
    "dfTE.columns = [c.lower() for c in dfTE.columns]\n",
    "dfK.columns = [c.lower() for c in dfK.columns]\n",
    "dfResults.columns = [c.lower() for c in dfResults.columns]\n",
    "\n",
    "#write data frames to their own tables\n",
    "#dfQB.to_sql(\"qb\", engine)\n",
    "#dfRB.to_sql(\"rb\", engine)\n",
    "#dfWR.to_sql(\"wr\", engine)\n",
    "#dfTE.to_sql(\"te\", engine)\n",
    "#dfK.to_sql(\"k\", engine)\n",
    "#dfResults.to_sql('results',engine)\n",
    "\n",
    "#connect to the engine\n",
    "connection = engine.connect()\n",
    "\n",
    "#query the player name, team they were on, and projected fantasy points\n",
    "joinedQB = pd.read_sql(\"\"\"\n",
    "                        SELECT results.player,results.team,qb.fantasy_points\n",
    "                        FROM results\n",
    "                        JOIN qb \n",
    "                        ON results.player=qb.player\n",
    "                        ;\"\"\",con=engine)\n",
    "\n",
    "joinedRB = pd.read_sql(\"\"\"\n",
    "                        SELECT results.player,results.team,rb.fantasy_points\n",
    "                        FROM results\n",
    "                        JOIN rb \n",
    "                        ON results.player=rb.player\n",
    "                        ;\"\"\",con=engine)\n",
    "\n",
    "joinedWR = pd.read_sql(\"\"\"\n",
    "                        SELECT results.player,results.team,wr.fantasy_points\n",
    "                        FROM results\n",
    "                        JOIN wr \n",
    "                        ON results.player=wr.player\n",
    "                        ;\"\"\",con=engine)\n",
    "\n",
    "joinedTE = pd.read_sql(\"\"\"\n",
    "                        SELECT results.player,results.team,te.fantasy_points\n",
    "                        FROM results\n",
    "                        JOIN te \n",
    "                        ON results.player=te.player\n",
    "                        ;\"\"\",con=engine)\n",
    "\n",
    "joinedK = pd.read_sql(\"\"\"\n",
    "                        SELECT results.player,results.team,k.fantasy_points\n",
    "                        FROM results\n",
    "                        JOIN k \n",
    "                        ON results.player=k.player\n",
    "                        ;\"\"\",con=engine)\n",
    "\n",
    "#concatenate the tables into one big table\n",
    "frames = [joinedQB, joinedRB, joinedWR, joinedTE, joinedK]\n",
    "\n",
    "finalFrame = pd.concat(frames)\n",
    "finalFrame.head()"
   ]
  },
  {
   "cell_type": "code",
   "execution_count": 389,
   "metadata": {
    "collapsed": false
   },
   "outputs": [
    {
     "data": {
      "text/html": [
       "<div>\n",
       "<table border=\"1\" class=\"dataframe\">\n",
       "  <thead>\n",
       "    <tr style=\"text-align: right;\">\n",
       "      <th></th>\n",
       "      <th>player</th>\n",
       "      <th>team</th>\n",
       "      <th>position</th>\n",
       "      <th>games_played</th>\n",
       "      <th>actual</th>\n",
       "      <th>projected</th>\n",
       "    </tr>\n",
       "  </thead>\n",
       "  <tbody>\n",
       "    <tr>\n",
       "      <th>0</th>\n",
       "      <td>Cam Newton</td>\n",
       "      <td>CAR</td>\n",
       "      <td>QB</td>\n",
       "      <td>16</td>\n",
       "      <td>389.1</td>\n",
       "      <td>278.9</td>\n",
       "    </tr>\n",
       "    <tr>\n",
       "      <th>1</th>\n",
       "      <td>Tom Brady</td>\n",
       "      <td>NE</td>\n",
       "      <td>QB</td>\n",
       "      <td>16</td>\n",
       "      <td>343.7</td>\n",
       "      <td>281.2</td>\n",
       "    </tr>\n",
       "    <tr>\n",
       "      <th>2</th>\n",
       "      <td>Russell Wilson</td>\n",
       "      <td>SEA</td>\n",
       "      <td>QB</td>\n",
       "      <td>16</td>\n",
       "      <td>336.4</td>\n",
       "      <td>303.2</td>\n",
       "    </tr>\n",
       "    <tr>\n",
       "      <th>3</th>\n",
       "      <td>Blake Bortles</td>\n",
       "      <td>JAC</td>\n",
       "      <td>QB</td>\n",
       "      <td>16</td>\n",
       "      <td>316.1</td>\n",
       "      <td>205.5</td>\n",
       "    </tr>\n",
       "    <tr>\n",
       "      <th>4</th>\n",
       "      <td>Carson Palmer</td>\n",
       "      <td>ARI</td>\n",
       "      <td>QB</td>\n",
       "      <td>16</td>\n",
       "      <td>309.2</td>\n",
       "      <td>232.8</td>\n",
       "    </tr>\n",
       "  </tbody>\n",
       "</table>\n",
       "</div>"
      ],
      "text/plain": [
       "           player team position games_played actual  projected\n",
       "0      Cam Newton  CAR       QB           16  389.1      278.9\n",
       "1       Tom Brady   NE       QB           16  343.7      281.2\n",
       "2  Russell Wilson  SEA       QB           16  336.4      303.2\n",
       "3   Blake Bortles  JAC       QB           16  316.1      205.5\n",
       "4   Carson Palmer  ARI       QB           16  309.2      232.8"
      ]
     },
     "execution_count": 389,
     "metadata": {},
     "output_type": "execute_result"
    }
   ],
   "source": [
    "#drop names that doesn't exist in the other table and drop duplicates\n",
    "somethingNew = (dfResults.loc[dfResults['player'].isin(finalFrame['player'])])\n",
    "somethingNew = somethingNew.drop_duplicates(['player'],keep='last')\n",
    "\n",
    "somethingWeird = (finalFrame.loc[finalFrame['player'].isin(dfResults['player'])])\n",
    "somethingWeird = somethingWeird.drop_duplicates(['player'], keep='last')\n",
    "somethingWeird['fantasy_points'] = somethingWeird['fantasy_points'].astype(float)\n",
    "\n",
    "#join on the name of players, clean columns, rename some columns\n",
    "newDF = pd.merge(somethingNew, somethingWeird, on='player')\n",
    "newDF.drop(['rank','avg_points','team_y'],axis=1,inplace=True)\n",
    "newDF = newDF[['player','team_x','position','games_played','total_points','fantasy_points']]\n",
    "newDF = newDF.rename(index=str, columns={\"team_x\": \"team\", \"total_points\": \"actual\",\"fantasy_points\":\"projected\"})\n",
    "\n",
    "newDF.head()"
   ]
  },
  {
   "cell_type": "markdown",
   "metadata": {},
   "source": [
    "# Projected vs Actual from the experts"
   ]
  },
  {
   "cell_type": "code",
   "execution_count": 390,
   "metadata": {
    "collapsed": false
   },
   "outputs": [
    {
     "name": "stdout",
     "output_type": "stream",
     "text": [
      "R-squared: 0.600625723793\n"
     ]
    },
    {
     "data": {
      "image/png": "[encoded data removed]",
      "text/plain": [
       "<matplotlib.figure.Figure at 0x12528cbd0>"
      ]
     },
     "metadata": {},
     "output_type": "display_data"
    }
   ],
   "source": [
    "#plot projected vs actual\n",
    "x = newDF.projected.tolist()\n",
    "y = newDF.actual.tolist()\n",
    "plt.scatter(x,y)\n",
    "plt.xlabel('Projected')\n",
    "plt.ylabel('Actual')\n",
    "\n",
    "from scipy import stats\n",
    "slope, intercept, r_value, p_value, std_err = stats.linregress(newDF['projected'].astype(float),newDF['actual'].astype(float))\n",
    "print\"R-squared:\", r_value**2"
   ]
  },
  {
   "cell_type": "markdown",
   "metadata": {},
   "source": [
    "# Data Mining for 2014 results"
   ]
  },
  {
   "cell_type": "code",
   "execution_count": 391,
   "metadata": {
    "collapsed": false
   },
   "outputs": [
    {
     "name": "stderr",
     "output_type": "stream",
     "text": [
      "/Users/SangYeob/anaconda/lib/python2.7/site-packages/ipykernel/__main__.py:40: FutureWarning: convert_objects is deprecated.  Use the data-type specific converters pd.to_datetime, pd.to_timedelta and pd.to_numeric.\n"
     ]
    },
    {
     "data": {
      "text/html": [
       "<div>\n",
       "<table border=\"1\" class=\"dataframe\">\n",
       "  <thead>\n",
       "    <tr style=\"text-align: right;\">\n",
       "      <th></th>\n",
       "      <th>Player</th>\n",
       "      <th>Team</th>\n",
       "      <th>Games</th>\n",
       "      <th>Comp_P</th>\n",
       "      <th>Att_P</th>\n",
       "      <th>Yards_P</th>\n",
       "      <th>TD_P</th>\n",
       "      <th>INT</th>\n",
       "      <th>ATT_R</th>\n",
       "      <th>Yards_R</th>\n",
       "      <th>TD_R</th>\n",
       "      <th>FPTs</th>\n",
       "      <th>FPTs/G</th>\n",
       "      <th>Comp_Rate</th>\n",
       "      <th>Total_Yards</th>\n",
       "      <th>Total_TD</th>\n",
       "      <th>Total_Yards_perComp</th>\n",
       "    </tr>\n",
       "  </thead>\n",
       "  <tbody>\n",
       "    <tr>\n",
       "      <th>0</th>\n",
       "      <td>Andrew Luck</td>\n",
       "      <td>IND</td>\n",
       "      <td>16.0</td>\n",
       "      <td>380</td>\n",
       "      <td>616</td>\n",
       "      <td>4761</td>\n",
       "      <td>40.0</td>\n",
       "      <td>16</td>\n",
       "      <td>64</td>\n",
       "      <td>263</td>\n",
       "      <td>3</td>\n",
       "      <td>442.4</td>\n",
       "      <td>27.6</td>\n",
       "      <td>0.616883</td>\n",
       "      <td>5024</td>\n",
       "      <td>43.0</td>\n",
       "      <td>13.221053</td>\n",
       "    </tr>\n",
       "    <tr>\n",
       "      <th>1</th>\n",
       "      <td>Aaron Rodgers</td>\n",
       "      <td>GB</td>\n",
       "      <td>16.0</td>\n",
       "      <td>341</td>\n",
       "      <td>520</td>\n",
       "      <td>4381</td>\n",
       "      <td>38.0</td>\n",
       "      <td>5</td>\n",
       "      <td>43</td>\n",
       "      <td>269</td>\n",
       "      <td>2</td>\n",
       "      <td>410.0</td>\n",
       "      <td>25.6</td>\n",
       "      <td>0.655769</td>\n",
       "      <td>4650</td>\n",
       "      <td>40.0</td>\n",
       "      <td>13.636364</td>\n",
       "    </tr>\n",
       "    <tr>\n",
       "      <th>2</th>\n",
       "      <td>Drew Brees</td>\n",
       "      <td>NO</td>\n",
       "      <td>16.0</td>\n",
       "      <td>456</td>\n",
       "      <td>659</td>\n",
       "      <td>4952</td>\n",
       "      <td>33.0</td>\n",
       "      <td>17</td>\n",
       "      <td>27</td>\n",
       "      <td>68</td>\n",
       "      <td>1</td>\n",
       "      <td>392.4</td>\n",
       "      <td>24.5</td>\n",
       "      <td>0.691958</td>\n",
       "      <td>5020</td>\n",
       "      <td>34.0</td>\n",
       "      <td>11.008772</td>\n",
       "    </tr>\n",
       "    <tr>\n",
       "      <th>3</th>\n",
       "      <td>Peyton Manning</td>\n",
       "      <td>DEN</td>\n",
       "      <td>16.0</td>\n",
       "      <td>395</td>\n",
       "      <td>597</td>\n",
       "      <td>4727</td>\n",
       "      <td>39.0</td>\n",
       "      <td>15</td>\n",
       "      <td>24</td>\n",
       "      <td>-24</td>\n",
       "      <td>0</td>\n",
       "      <td>390.0</td>\n",
       "      <td>24.4</td>\n",
       "      <td>0.661642</td>\n",
       "      <td>4703</td>\n",
       "      <td>39.0</td>\n",
       "      <td>11.906329</td>\n",
       "    </tr>\n",
       "    <tr>\n",
       "      <th>4</th>\n",
       "      <td>Ben Roethlisberger</td>\n",
       "      <td>PIT</td>\n",
       "      <td>16.0</td>\n",
       "      <td>408</td>\n",
       "      <td>608</td>\n",
       "      <td>4952</td>\n",
       "      <td>32.0</td>\n",
       "      <td>9</td>\n",
       "      <td>32</td>\n",
       "      <td>27</td>\n",
       "      <td>0</td>\n",
       "      <td>378.3</td>\n",
       "      <td>23.6</td>\n",
       "      <td>0.671053</td>\n",
       "      <td>4979</td>\n",
       "      <td>32.0</td>\n",
       "      <td>12.203431</td>\n",
       "    </tr>\n",
       "  </tbody>\n",
       "</table>\n",
       "</div>"
      ],
      "text/plain": [
       "               Player Team  Games  Comp_P  Att_P  Yards_P  TD_P  INT  ATT_R  \\\n",
       "0         Andrew Luck  IND   16.0     380    616     4761  40.0   16     64   \n",
       "1       Aaron Rodgers   GB   16.0     341    520     4381  38.0    5     43   \n",
       "2          Drew Brees   NO   16.0     456    659     4952  33.0   17     27   \n",
       "3      Peyton Manning  DEN   16.0     395    597     4727  39.0   15     24   \n",
       "4  Ben Roethlisberger  PIT   16.0     408    608     4952  32.0    9     32   \n",
       "\n",
       "   Yards_R  TD_R   FPTs  FPTs/G  Comp_Rate  Total_Yards  Total_TD  \\\n",
       "0      263     3  442.4    27.6   0.616883         5024      43.0   \n",
       "1      269     2  410.0    25.6   0.655769         4650      40.0   \n",
       "2       68     1  392.4    24.5   0.691958         5020      34.0   \n",
       "3      -24     0  390.0    24.4   0.661642         4703      39.0   \n",
       "4       27     0  378.3    23.6   0.671053         4979      32.0   \n",
       "\n",
       "   Total_Yards_perComp  \n",
       "0            13.221053  \n",
       "1            13.636364  \n",
       "2            11.008772  \n",
       "3            11.906329  \n",
       "4            12.203431  "
      ]
     },
     "execution_count": 391,
     "metadata": {},
     "output_type": "execute_result"
    }
   ],
   "source": [
    "URLQB1 = \"http://fftoday.com/stats/playerstats.php?Season=2014&GameWeek=Season&PosID=10&LeagueID=10\"\n",
    "URLQB2 = \"http://fftoday.com/stats/playerstats.php?Season=2014&GameWeek=Season&PosID=10&LeagueID=1&order_by=FFPts&sort_order=DESC&cur_page=1\"\n",
    "\n",
    "#parse the page\n",
    "soupQB1 = BeautifulSoup(requests.get(URLQB1).text)\n",
    "soupQB2 = BeautifulSoup(requests.get(URLQB2).text)\n",
    "\n",
    "#get the data from the first page\n",
    "QB1_data = [[i for i in soupQB1('table')[9].findAll('tr')[0]('tr')[i].text.split()[1:]] \n",
    "               for i in range(len(soupQB1('table')[9].findAll('tr')[0]('tr')))]\n",
    "columnNames = ['First','Last','Team','Games','Comp_P','Att_P','Yards_P','TD_P','INT','ATT_R','Yards_R','TD_R','FPTs','FPTs/G','d']\n",
    "\n",
    "\n",
    "dfQB12014 = pd.DataFrame(QB1_data[2:],columns=columnNames)\n",
    "\n",
    "#merge first name and last name into one column\n",
    "dfQB12014['First'] = dfQB12014[[0,1]].apply(lambda x: ' '.join(x),axis=1)\n",
    "del dfQB12014['d']\n",
    "del dfQB12014['Last']\n",
    "\n",
    "#get the data from the second page\n",
    "QB2_data = [[i for i in soupQB2('table')[9].findAll('tr')[0]('tr')[i].text.split()[1:]] \n",
    "               for i in range(len(soupQB2('table')[9].findAll('tr')[0]('tr')))]\n",
    "\n",
    "columnNames = ['First','Last','Team','Games','Comp_P','Att_P','Yards_P','TD_P','INT','ATT_R','Yards_R','TD_R','FPTs','FPTs/G']\n",
    "\n",
    "#merge first name and last name into one column\n",
    "dfQB22014 = pd.DataFrame(QB2_data[2:],columns=columnNames)\n",
    "dfQB22014['First'] = dfQB22014[[0,1]].apply(lambda x: ' '.join(x),axis=1)\n",
    "del dfQB22014['Last']\n",
    "\n",
    "#put both tables together\n",
    "dfQB2014 = pd.concat([dfQB12014,dfQB22014])\n",
    "dfQB2014.rename(columns={'First': 'Player'}, inplace=True)\n",
    "\n",
    "#strip the commas\n",
    "dfQB2014['Yards_P'] = dfQB2014['Yards_P'].str.replace(',', '')\n",
    "\n",
    "#convert objects into numeric(integers or floats)\n",
    "dfQB2014 = dfQB2014.convert_objects(convert_numeric=True)\n",
    "\n",
    "#add a new column for completion rate, total yards, total touchdowns, yards per completions\n",
    "dfQB2014['Comp_Rate'] = dfQB2014['Comp_P']/dfQB2014['Att_P']\n",
    "dfQB2014['Total_Yards'] = dfQB2014['Yards_P'] + dfQB2014['Yards_R']\n",
    "dfQB2014['Total_TD'] = dfQB2014['TD_P'] + dfQB2014['TD_R']\n",
    "dfQB2014['Total_Yards_perComp'] = dfQB2014['Total_Yards']/dfQB2014['Comp_P']\n",
    "\n",
    "dfQB2014.head()"
   ]
  },
  {
   "cell_type": "code",
   "execution_count": 392,
   "metadata": {
    "collapsed": false
   },
   "outputs": [
    {
     "data": {
      "text/plain": [
       "<matplotlib.axes._subplots.AxesSubplot at 0x11804e750>"
      ]
     },
     "execution_count": 392,
     "metadata": {},
     "output_type": "execute_result"
    },
    {
     "data": {
      "image/png": "[encoded data removed]",
      "text/plain": [
       "<matplotlib.figure.Figure at 0x101b55850>"
      ]
     },
     "metadata": {},
     "output_type": "display_data"
    }
   ],
   "source": [
    "sns.heatmap(dfQB2014.corr())"
   ]
  },
  {
   "cell_type": "markdown",
   "metadata": {},
   "source": [
    "# Building a simple model"
   ]
  },
  {
   "cell_type": "code",
   "execution_count": 393,
   "metadata": {
    "collapsed": false
   },
   "outputs": [
    {
     "name": "stderr",
     "output_type": "stream",
     "text": [
      "/Users/SangYeob/anaconda/lib/python2.7/site-packages/ipykernel/__main__.py:8: FutureWarning: convert_objects is deprecated.  Use the data-type specific converters pd.to_datetime, pd.to_timedelta and pd.to_numeric.\n",
      "/Users/SangYeob/anaconda/lib/python2.7/site-packages/ipykernel/__main__.py:9: FutureWarning: convert_objects is deprecated.  Use the data-type specific converters pd.to_datetime, pd.to_timedelta and pd.to_numeric.\n"
     ]
    },
    {
     "data": {
      "image/png": "[encoded data removed]",
      "text/plain": [
       "<matplotlib.figure.Figure at 0x11725ebd0>"
      ]
     },
     "metadata": {},
     "output_type": "display_data"
    },
    {
     "name": "stderr",
     "output_type": "stream",
     "text": [
      "/Users/SangYeob/anaconda/lib/python2.7/site-packages/sklearn/linear_model/coordinate_descent.py:1051: DataConversionWarning: A column-vector y was passed when a 1d array was expected. Please change the shape of y to (n_samples, ), for example using ravel().\n",
      "  y = column_or_1d(y, warn=True)\n"
     ]
    },
    {
     "name": "stdout",
     "output_type": "stream",
     "text": [
      "Score: 0.983721297675\n"
     ]
    },
    {
     "data": {
      "image/png": "[encoded data removed]",
      "text/plain": [
       "<matplotlib.figure.Figure at 0x1209361d0>"
      ]
     },
     "metadata": {},
     "output_type": "display_data"
    },
    {
     "name": "stdout",
     "output_type": "stream",
     "text": [
      "Sample Lasso with regularization: 0.993274645961\n"
     ]
    }
   ],
   "source": [
    "from sklearn import linear_model\n",
    "from sklearn import datasets, linear_model\n",
    "from sklearn.cross_validation import train_test_split\n",
    "\n",
    "X_QB = dfQB2014[['Total_Yards_perComp','Total_TD','INT','Total_Yards']]\n",
    "y_QB = dfQB2014[['FPTs']]\n",
    "\n",
    "X_QB = X_QB.convert_objects(convert_numeric=True)\n",
    "y_QB = y_QB.convert_objects(convert_numeric=True)\n",
    "\n",
    "X_QB.replace([np.inf, -np.inf], np.nan,inplace=True)\n",
    "y_QB = y_QB.drop(y_QB.index[[32,-5,-3]])\n",
    "X_QB.dropna(inplace=True)\n",
    "\n",
    "\n",
    "#Building a model using the train sets and test sets\n",
    "lm = linear_model.LinearRegression()\n",
    "\n",
    "X_train, X_test, y_train, y_test = train_test_split(X_QB, y_QB, test_size=0.4)\n",
    "\n",
    "model = lm.fit(X_train, y_train)\n",
    "predictions = lm.predict(X_test)\n",
    "\n",
    "## The line / model\n",
    "plt.scatter(predictions,y_test)\n",
    "plt.xlabel(\"True Values\")\n",
    "plt.ylabel(\"Predictions\")\n",
    "plt.show()\n",
    "print \"Score:\", model.score(X_test, y_test)  \n",
    "\n",
    "\n",
    "ll = linear_model.LassoCV(alphas=[0.01, 1, 100]).fit(X_QB,y_QB)\n",
    "\n",
    "predictions = ll.predict(X_QB)\n",
    "plt.scatter(predictions,y_QB)\n",
    "plt.xlabel(\"True Values\")\n",
    "plt.ylabel(\"Predictions\")\n",
    "plt.show()\n",
    "print \"Sample Lasso with regularization:\", ll.score(X_QB, y_QB)"
   ]
  },
  {
   "cell_type": "markdown",
   "metadata": {},
   "source": [
    "The reason that the R^2 values are so good is because fantasy points are derived from the stats. You can also see that from the heatmap that they have strong positive relationship between fantasy points and yards/touchdowns. I need to build different models and test it against 2015 results. "
   ]
  },
  {
   "cell_type": "code",
   "execution_count": 394,
   "metadata": {
    "collapsed": false
   },
   "outputs": [
    {
     "data": {
      "text/html": [
       "<div>\n",
       "<table border=\"1\" class=\"dataframe\">\n",
       "  <thead>\n",
       "    <tr style=\"text-align: right;\">\n",
       "      <th></th>\n",
       "      <th>Player</th>\n",
       "      <th>Team</th>\n",
       "      <th>Games</th>\n",
       "      <th>Att_Rush</th>\n",
       "      <th>Yards_Rush</th>\n",
       "      <th>TD_Rush</th>\n",
       "      <th>Target</th>\n",
       "      <th>RecNum</th>\n",
       "      <th>Yards_Rec</th>\n",
       "      <th>TD_Rec</th>\n",
       "      <th>FPTs</th>\n",
       "      <th>FPTs/G</th>\n",
       "    </tr>\n",
       "  </thead>\n",
       "  <tbody>\n",
       "    <tr>\n",
       "      <th>0</th>\n",
       "      <td>DeMarco Murray</td>\n",
       "      <td>DAL</td>\n",
       "      <td>16</td>\n",
       "      <td>393</td>\n",
       "      <td>1,845</td>\n",
       "      <td>13</td>\n",
       "      <td>64</td>\n",
       "      <td>57</td>\n",
       "      <td>416</td>\n",
       "      <td>0</td>\n",
       "      <td>304.1</td>\n",
       "      <td>19.0</td>\n",
       "    </tr>\n",
       "    <tr>\n",
       "      <th>1</th>\n",
       "      <td>Le'Veon Bell</td>\n",
       "      <td>PIT</td>\n",
       "      <td>16</td>\n",
       "      <td>290</td>\n",
       "      <td>1,361</td>\n",
       "      <td>8</td>\n",
       "      <td>105</td>\n",
       "      <td>83</td>\n",
       "      <td>854</td>\n",
       "      <td>3</td>\n",
       "      <td>287.5</td>\n",
       "      <td>18.0</td>\n",
       "    </tr>\n",
       "    <tr>\n",
       "      <th>2</th>\n",
       "      <td>Marshawn Lynch</td>\n",
       "      <td>SEA</td>\n",
       "      <td>16</td>\n",
       "      <td>280</td>\n",
       "      <td>1,306</td>\n",
       "      <td>13</td>\n",
       "      <td>48</td>\n",
       "      <td>37</td>\n",
       "      <td>367</td>\n",
       "      <td>4</td>\n",
       "      <td>269.3</td>\n",
       "      <td>16.8</td>\n",
       "    </tr>\n",
       "    <tr>\n",
       "      <th>3</th>\n",
       "      <td>Matt Forte</td>\n",
       "      <td>CHI</td>\n",
       "      <td>16</td>\n",
       "      <td>266</td>\n",
       "      <td>1,038</td>\n",
       "      <td>6</td>\n",
       "      <td>130</td>\n",
       "      <td>102</td>\n",
       "      <td>808</td>\n",
       "      <td>4</td>\n",
       "      <td>244.6</td>\n",
       "      <td>15.3</td>\n",
       "    </tr>\n",
       "    <tr>\n",
       "      <th>4</th>\n",
       "      <td>Arian Foster</td>\n",
       "      <td>HOU</td>\n",
       "      <td>13</td>\n",
       "      <td>260</td>\n",
       "      <td>1,246</td>\n",
       "      <td>8</td>\n",
       "      <td>59</td>\n",
       "      <td>38</td>\n",
       "      <td>327</td>\n",
       "      <td>5</td>\n",
       "      <td>235.3</td>\n",
       "      <td>18.1</td>\n",
       "    </tr>\n",
       "  </tbody>\n",
       "</table>\n",
       "</div>"
      ],
      "text/plain": [
       "           Player Team Games Att_Rush Yards_Rush TD_Rush Target RecNum  \\\n",
       "0  DeMarco Murray  DAL    16      393      1,845      13     64     57   \n",
       "1    Le'Veon Bell  PIT    16      290      1,361       8    105     83   \n",
       "2  Marshawn Lynch  SEA    16      280      1,306      13     48     37   \n",
       "3      Matt Forte  CHI    16      266      1,038       6    130    102   \n",
       "4    Arian Foster  HOU    13      260      1,246       8     59     38   \n",
       "\n",
       "  Yards_Rec TD_Rec   FPTs FPTs/G  \n",
       "0       416      0  304.1   19.0  \n",
       "1       854      3  287.5   18.0  \n",
       "2       367      4  269.3   16.8  \n",
       "3       808      4  244.6   15.3  \n",
       "4       327      5  235.3   18.1  "
      ]
     },
     "execution_count": 394,
     "metadata": {},
     "output_type": "execute_result"
    }
   ],
   "source": [
    "URLRB1 = \"http://fftoday.com/stats/playerstats.php?Season=2014&GameWeek=Season&PosID=20&LeagueID=0\"\n",
    "URLRB2 = \"http://fftoday.com/stats/playerstats.php?Season=2014&GameWeek=Season&PosID=20&LeagueID=1&order_by=FFPts&sort_order=DESC&cur_page=3\"\n",
    "\n",
    "#parse the page\n",
    "soupRB1 = BeautifulSoup(requests.get(URLRB1).text)\n",
    "soupRB2 = BeautifulSoup(requests.get(URLRB2).text)\n",
    "\n",
    "RB1_data = [[i for i in soupRB1('table')[9].findAll('tr')[0]('tr')[i].text.split()[1:]] \n",
    "               for i in range(len(soupRB1('table')[9].findAll('tr')[0]('tr')))]\n",
    "columnNames = ['First','Last','Team','Games', 'Att_Rush','Yards_Rush','TD_Rush','Target','RecNum','Yards_Rec','TD_Rec','FPTs','FPTs/G']\n",
    "\n",
    "\n",
    "dfRB12014 = pd.DataFrame(RB1_data[2:],columns=columnNames)\n",
    "\n",
    "dfRB12014['First'] = dfRB12014[[0,1]].apply(lambda x: ' '.join(x),axis=1)\n",
    "del dfRB12014['Last']\n",
    "\n",
    "RB2_data = [[i for i in soupRB2('table')[9].findAll('tr')[0]('tr')[i].text.split()[1:]] \n",
    "               for i in range(len(soupRB2('table')[9].findAll('tr')[0]('tr')))]\n",
    "\n",
    "dfRB22014 = pd.DataFrame(RB2_data[2:],columns=columnNames)\n",
    "dfRB22014['First'] = dfRB22014[[0,1]].apply(lambda x: ' '.join(x),axis=1)\n",
    "del dfRB22014['Last']\n",
    "\n",
    "dfRB2014 = pd.concat([dfRB12014,dfRB22014])\n",
    "dfRB2014.rename(columns={'First': 'Player'}, inplace=True)\n",
    "\n",
    "dfRB2014.head()"
   ]
  },
  {
   "cell_type": "code",
   "execution_count": null,
   "metadata": {
    "collapsed": true
   },
   "outputs": [],
   "source": []
  },
  {
   "cell_type": "code",
   "execution_count": null,
   "metadata": {
    "collapsed": true
   },
   "outputs": [],
   "source": []
  }
 ],
 "metadata": {
  "kernelspec": {
   "display_name": "Python 2",
   "language": "python",
   "name": "python2"
  },
  "language_info": {
   "codemirror_mode": {
    "name": "ipython",
    "version": 2
   },
   "file_extension": ".py",
   "mimetype": "text/x-python",
   "name": "python",
   "nbconvert_exporter": "python",
   "pygments_lexer": "ipython2",
   "version": "2.7.12"
  }
 },
 "nbformat": 4,
 "nbformat_minor": 0
}
