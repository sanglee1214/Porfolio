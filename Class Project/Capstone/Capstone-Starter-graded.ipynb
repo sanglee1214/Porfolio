{
 "cells": [
  {
   "cell_type": "markdown",
   "metadata": {},
   "source": [
    "# Getting started\n",
    "I need to create a model that will be more accurate than compilation of experts' projections. In order to do that, I need to get the data for the 2015 season along with 2015's preseason projections made by the experts. My goal would be to use the stats from previous season to beat the accuracy score of the experts' projections. My models will be segmented by each positions and perform different regression models such as linear, Lasso, random forest, and few other models for each positions.\n",
    "\n",
    "The current risk I foresee is that some players will get injured, suspended, or retire. Also, I don't have any data on any rookie players. The age needs to be considered. Since players are humans, they cannot perform exactly the same every season.\n"
   ]
  },
  {
   "cell_type": "code",
   "execution_count": 733,
   "metadata": {
    "collapsed": true
   },
   "outputs": [],
   "source": [
    "import requests\n",
    "import bs4\n",
    "from bs4 import BeautifulSoup\n",
    "import urllib2\n",
    "import pandas as pd\n",
    "import numpy as np\n",
    "from sqlalchemy import create_engine\n",
    "import matplotlib.pyplot as plt\n",
    "import seaborn as sns\n",
    "%matplotlib inline\n",
    "\n",
    "#function that will group rows together\n",
    "def group(iterator, count):\n",
    "    itr = iter(iterator)\n",
    "    while True:\n",
    "        yield tuple([itr.next() for i in range(count)])\n"
   ]
  },
  {
   "cell_type": "markdown",
   "metadata": {},
   "source": [
    "# Data Mining for 2015 preseason projections\n"
   ]
  },
  {
   "cell_type": "code",
   "execution_count": 734,
   "metadata": {
    "collapsed": false
   },
   "outputs": [
    {
     "name": "stdout",
     "output_type": "stream",
     "text": [
      "<class 'pandas.core.frame.DataFrame'>\n",
      "RangeIndex: 76 entries, 0 to 75\n",
      "Data columns (total 12 columns):\n",
      "Player             76 non-null object\n",
      "Position           76 non-null object\n",
      "Pass_Attempt       76 non-null object\n",
      "Pass_Completion    76 non-null object\n",
      "Pass_Yards         76 non-null object\n",
      "Pass_Touchdowns    76 non-null object\n",
      "Interceptions      76 non-null object\n",
      "Rush_Attempt       76 non-null object\n",
      "Rush_Yards         76 non-null object\n",
      "Rush_Touchdowns    76 non-null object\n",
      "Fumbles_Lost       76 non-null object\n",
      "Fantasy_Points     76 non-null object\n",
      "dtypes: object(12)\n",
      "memory usage: 7.2+ KB\n"
     ]
    }
   ],
   "source": [
    "#scraping the 2015 QB projection page from fantasypros\n",
    "soupQB = BeautifulSoup(requests.get('https://www.fantasypros.com/nfl/projections/qb.php?year=2015&week=draft').text)\n",
    "\n",
    "#find the body of the table\n",
    "data_QB = soupQB('table')[0].findAll('tbody')[0].text.strip().split()\n",
    "\n",
    "#list of team initials for the entire NFL teams\n",
    "teamList = ['NE','NYJ','MIA','BUF','PIT','BAL','CLE','CIN','HOU','IND',\n",
    "            'JAC','TEN','DEN','KC','SD','OAK','DAL','WAS','NYG','PHI',\n",
    "            'MIN','GB','DET','CHI','NO','TB','ATL','CAR','SF','SEA','ARI','STL','LA']\n",
    "\n",
    "#get rid of the teams\n",
    "data_QB_noTeam = [i for i in data_QB if i not in teamList]\n",
    "\n",
    "#recreate the table from the website into pandas dataframe\n",
    "dfQB = pd.DataFrame(list(group(data_QB_noTeam, 12)))\n",
    "\n",
    "#join first name and last name together into the same column\n",
    "dfQB[0] = dfQB[[0,1]].apply(lambda x: ' '.join(x),axis=1)\n",
    "\n",
    "#drop the last name column\n",
    "del dfQB[1]\n",
    "\n",
    "#insert a column for the type of position. For this table, QB.\n",
    "\n",
    "dfQB.insert(1, 'Position', 'QB')\n",
    "\n",
    "#column name for this table\n",
    "column_QB = ['Player','Position','Pass_Attempt','Pass_Completion','Pass_Yards','Pass_Touchdowns','Interceptions',\n",
    "                 'Rush_Attempt','Rush_Yards','Rush_Touchdowns','Fumbles_Lost','Fantasy_Points']\n",
    "\n",
    "#set the columns\n",
    "dfQB.columns = column_QB\n",
    "\n",
    "dfQB.info()"
   ]
  },
  {
   "cell_type": "code",
   "execution_count": 735,
   "metadata": {
    "collapsed": false
   },
   "outputs": [
    {
     "name": "stdout",
     "output_type": "stream",
     "text": [
      "<class 'pandas.core.frame.DataFrame'>\n",
      "RangeIndex: 152 entries, 0 to 151\n",
      "Data columns (total 10 columns):\n",
      "Player                152 non-null object\n",
      "Position              152 non-null object\n",
      "Rush_Attempt          152 non-null object\n",
      "Rush_Yards            152 non-null object\n",
      "Rush_Touchdowns       152 non-null object\n",
      "Rec                   152 non-null object\n",
      "Receive_Yards         152 non-null object\n",
      "Receive_Touchdowns    152 non-null object\n",
      "Fumbles_Lost          152 non-null object\n",
      "Fantasy_Points        152 non-null object\n",
      "dtypes: object(10)\n",
      "memory usage: 11.9+ KB\n"
     ]
    }
   ],
   "source": [
    "#scraping the 2015 RB projection page from fantasypros\n",
    "soupRB = BeautifulSoup(requests.get('https://www.fantasypros.com/nfl/projections/rb.php?year=2015&week=draft').text)\n",
    "\n",
    "data_RB = soupRB('table')[0].findAll('tbody')[0].text.strip().split()\n",
    "\n",
    "data_RB_noTeam = [i for i in data_RB if i not in teamList]\n",
    "\n",
    "dfRB = pd.DataFrame(list(group(data_RB_noTeam, 10)))\n",
    "\n",
    "dfRB[0] = dfRB[[0,1]].apply(lambda x: ' '.join(x),axis=1)\n",
    "\n",
    "del dfRB[1]\n",
    "\n",
    "dfRB.insert(1, 'Position', 'RB')\n",
    "\n",
    "column_RB = ['Player','Position','Rush_Attempt','Rush_Yards','Rush_Touchdowns','Rec','Receive_Yards','Receive_Touchdowns',\n",
    "             'Fumbles_Lost','Fantasy_Points']\n",
    "\n",
    "dfRB.columns = column_RB\n",
    "\n",
    "dfRB.info()"
   ]
  },
  {
   "cell_type": "code",
   "execution_count": 736,
   "metadata": {
    "collapsed": false
   },
   "outputs": [
    {
     "name": "stdout",
     "output_type": "stream",
     "text": [
      "<class 'pandas.core.frame.DataFrame'>\n",
      "RangeIndex: 163 entries, 0 to 162\n",
      "Data columns (total 10 columns):\n",
      "Player                163 non-null object\n",
      "Position              163 non-null object\n",
      "Rush_Attempt          163 non-null object\n",
      "Rush_Yards            163 non-null object\n",
      "Rush_Touchdowns       163 non-null object\n",
      "Rec                   163 non-null object\n",
      "Receive_Yards         163 non-null object\n",
      "Receive_Touchdowns    163 non-null object\n",
      "Fumbles_Lost          163 non-null object\n",
      "Fantasy_Points        163 non-null object\n",
      "dtypes: object(10)\n",
      "memory usage: 12.8+ KB\n"
     ]
    }
   ],
   "source": [
    "#scraping the RB page\n",
    "soupWR = BeautifulSoup(requests.get('https://www.fantasypros.com/nfl/projections/wr.php?year=2015&week=draft').text)\n",
    "\n",
    "data_WR = soupWR('table')[0].findAll('tbody')[0].text.strip().split()\n",
    "\n",
    "data_WR_noTeam = [i for i in data_WR if i not in teamList]\n",
    "\n",
    "dfWR = pd.DataFrame(list(group(data_WR_noTeam, 10)))\n",
    "\n",
    "dfWR[0] = dfWR[[0,1]].apply(lambda x: ' '.join(x),axis=1)\n",
    "\n",
    "del dfWR[1]\n",
    "\n",
    "dfWR.insert(1, 'Position', 'WR')\n",
    "\n",
    "column_WR = ['Player','Position','Rush_Attempt','Rush_Yards','Rush_Touchdowns','Rec','Receive_Yards','Receive_Touchdowns',\n",
    "             'Fumbles_Lost','Fantasy_Points']\n",
    "\n",
    "dfWR.columns = column_WR\n",
    "\n",
    "dfWR.info()"
   ]
  },
  {
   "cell_type": "code",
   "execution_count": 737,
   "metadata": {
    "collapsed": false
   },
   "outputs": [
    {
     "name": "stdout",
     "output_type": "stream",
     "text": [
      "<class 'pandas.core.frame.DataFrame'>\n",
      "RangeIndex: 95 entries, 0 to 94\n",
      "Data columns (total 7 columns):\n",
      "Player                95 non-null object\n",
      "Position              95 non-null object\n",
      "Rec                   95 non-null object\n",
      "Receive_Yards         95 non-null object\n",
      "Receive_Touchdowns    95 non-null object\n",
      "Fumbles_Lost          95 non-null object\n",
      "Fantasy_Points        95 non-null object\n",
      "dtypes: object(7)\n",
      "memory usage: 5.3+ KB\n"
     ]
    }
   ],
   "source": [
    "#scraping the TE page\n",
    "soupTE = BeautifulSoup(requests.get('https://www.fantasypros.com/nfl/projections/te.php?year=2015&week=draft').text)\n",
    "\n",
    "data_TE = soupTE('table')[0].findAll('tbody')[0].text.strip().split()\n",
    "\n",
    "data_TE_noTeam = [i for i in data_TE if i not in teamList]\n",
    "\n",
    "dfTE = pd.DataFrame(list(group(data_TE_noTeam, 7)))\n",
    "\n",
    "dfTE[0] = dfTE[[0,1]].apply(lambda x: ' '.join(x),axis=1)\n",
    "\n",
    "del dfTE[1]\n",
    "\n",
    "dfTE.insert(1, 'Position', 'TE')\n",
    "\n",
    "column_TE = ['Player','Position','Rec','Receive_Yards','Receive_Touchdowns','Fumbles_Lost','Fantasy_Points']\n",
    "\n",
    "dfTE.columns = column_TE\n",
    "\n",
    "dfTE.info()"
   ]
  },
  {
   "cell_type": "code",
   "execution_count": 738,
   "metadata": {
    "collapsed": false
   },
   "outputs": [
    {
     "name": "stdout",
     "output_type": "stream",
     "text": [
      "<class 'pandas.core.frame.DataFrame'>\n",
      "RangeIndex: 32 entries, 0 to 31\n",
      "Data columns (total 6 columns):\n",
      "Player            32 non-null object\n",
      "Position          32 non-null object\n",
      "FGM               32 non-null object\n",
      "FGA               32 non-null object\n",
      "Fumbles_Lost      32 non-null object\n",
      "Fantasy_Points    32 non-null object\n",
      "dtypes: object(6)\n",
      "memory usage: 1.6+ KB\n"
     ]
    }
   ],
   "source": [
    "#scraping the Kickers page\n",
    "soupK = BeautifulSoup(requests.get('https://www.fantasypros.com/nfl/projections/k.php?year=2015&week=draft').text)\n",
    "\n",
    "data_K = soupK('table')[0].findAll('tbody')[0].text.strip().split()\n",
    "\n",
    "data_K_noTeam = [i for i in data_K if i not in teamList]\n",
    "\n",
    "dfK = pd.DataFrame(list(group(data_K_noTeam, 6)))\n",
    "\n",
    "dfK[0] = dfK[[0,1]].apply(lambda x: ' '.join(x),axis=1)\n",
    "\n",
    "del dfK[1]\n",
    "\n",
    "dfK.insert(1, 'Position', 'K')\n",
    "\n",
    "column_K = ['Player','Position','FGM','FGA','Fumbles_Lost','Fantasy_Points']\n",
    "\n",
    "dfK.columns = column_K\n",
    "\n",
    "dfK.info()\n"
   ]
  },
  {
   "cell_type": "markdown",
   "metadata": {},
   "source": [
    "\n",
    "| Columns | Descriptions| Type\n",
    "|------|------|------|\n",
    "|Player| First and Last name of players| Categorical|\n",
    "|Position| Position of players| Categorical|\n",
    "|Pass_Attempt| number of attempts by passing| Discrete/integer|\n",
    "|Pass_Completion| number of completions by passing| Discrete/integer|\n",
    "|Pass_Yards| number of yards by passing|Discrete/integer|\n",
    "|Pass_Touchdowns| number of touchdowns by passing |Discrete/integer|\n",
    "|Interceptions| number of interceptions|Discrete/integer|\n",
    "|Rush_Attempt| number of rush attempts|Discrete/integer|\n",
    "|Rush_Yards| number of yards by rushing|Discrete/integer|\n",
    "|Rush_Touchdowns| number of touchdowns by rushing|Discrete/integer|\n",
    "|Fumbles_Lost| number of fumbles|Discrete/integer|\n",
    "|Fantasy_Points| total fantasy points|Continuous/float|\n",
    "|Rec| number of receptions|Discrete/integer|\n",
    "|Receive_Yards| number of yards by reception|Discrete/integer|\n",
    "|Receive_Touchdowns| number of touchdowns by reception|Discrete/integer|\n",
    "|FGM| Field Goals Made|Discrete/integer|\n",
    "|FGA| Field Goal Attempts|Discrete/integer|\n"
   ]
  },
  {
   "cell_type": "markdown",
   "metadata": {},
   "source": [
    "# Data Mining for 2015 Actual Results"
   ]
  },
  {
   "cell_type": "code",
   "execution_count": 739,
   "metadata": {
    "collapsed": false
   },
   "outputs": [
    {
     "data": {
      "text/html": [
       "<div>\n",
       "<table border=\"1\" class=\"dataframe\">\n",
       "  <thead>\n",
       "    <tr style=\"text-align: right;\">\n",
       "      <th></th>\n",
       "      <th>Rank</th>\n",
       "      <th>Player</th>\n",
       "      <th>Team</th>\n",
       "      <th>Position</th>\n",
       "      <th>Total_Points</th>\n",
       "      <th>Games_Played</th>\n",
       "      <th>Avg_Points</th>\n",
       "    </tr>\n",
       "  </thead>\n",
       "  <tbody>\n",
       "    <tr>\n",
       "      <th>0</th>\n",
       "      <td>1</td>\n",
       "      <td>Cam Newton</td>\n",
       "      <td>CAR</td>\n",
       "      <td>QB</td>\n",
       "      <td>389.1</td>\n",
       "      <td>16</td>\n",
       "      <td>24.3</td>\n",
       "    </tr>\n",
       "    <tr>\n",
       "      <th>1</th>\n",
       "      <td>2</td>\n",
       "      <td>Tom Brady</td>\n",
       "      <td>NE</td>\n",
       "      <td>QB</td>\n",
       "      <td>343.7</td>\n",
       "      <td>16</td>\n",
       "      <td>21.5</td>\n",
       "    </tr>\n",
       "    <tr>\n",
       "      <th>2</th>\n",
       "      <td>3</td>\n",
       "      <td>Russell Wilson</td>\n",
       "      <td>SEA</td>\n",
       "      <td>QB</td>\n",
       "      <td>336.4</td>\n",
       "      <td>16</td>\n",
       "      <td>21.0</td>\n",
       "    </tr>\n",
       "    <tr>\n",
       "      <th>3</th>\n",
       "      <td>4</td>\n",
       "      <td>Blake Bortles</td>\n",
       "      <td>JAC</td>\n",
       "      <td>QB</td>\n",
       "      <td>316.1</td>\n",
       "      <td>16</td>\n",
       "      <td>19.8</td>\n",
       "    </tr>\n",
       "    <tr>\n",
       "      <th>4</th>\n",
       "      <td>5</td>\n",
       "      <td>Carson Palmer</td>\n",
       "      <td>ARI</td>\n",
       "      <td>QB</td>\n",
       "      <td>309.2</td>\n",
       "      <td>16</td>\n",
       "      <td>19.3</td>\n",
       "    </tr>\n",
       "  </tbody>\n",
       "</table>\n",
       "</div>"
      ],
      "text/plain": [
       "  Rank          Player Team Position Total_Points Games_Played Avg_Points\n",
       "0    1      Cam Newton  CAR       QB        389.1           16       24.3\n",
       "1    2       Tom Brady   NE       QB        343.7           16       21.5\n",
       "2    3  Russell Wilson  SEA       QB        336.4           16       21.0\n",
       "3    4   Blake Bortles  JAC       QB        316.1           16       19.8\n",
       "4    5   Carson Palmer  ARI       QB        309.2           16       19.3"
      ]
     },
     "execution_count": 739,
     "metadata": {},
     "output_type": "execute_result"
    }
   ],
   "source": [
    "#actual fantasy points\n",
    "soup_results = BeautifulSoup(requests.get('https://www.fantasypros.com/nfl/reports/leaders/').text)\n",
    "\n",
    "data_results = [i.text for i in soup_results('table')[0].findAll('td')]\n",
    "\n",
    "column_results = ['Rank','Player', 'Team','Position','Total_Points','Games_Played','Avg_Points']\n",
    "dfResults = pd.DataFrame(list(group(data_results,7)),columns=column_results)\n",
    "dfResults.head()"
   ]
  },
  {
   "cell_type": "markdown",
   "metadata": {},
   "source": [
    "# Setting up Postgresql Database"
   ]
  },
  {
   "cell_type": "code",
   "execution_count": 740,
   "metadata": {
    "collapsed": false
   },
   "outputs": [],
   "source": [
    "#!brew install postgresql\n",
    "#!brew services stop postgresql\n",
    "#!brew services start postgresql\n",
    "#!createdb fantasyfootball\n"
   ]
  },
  {
   "cell_type": "code",
   "execution_count": 741,
   "metadata": {
    "collapsed": false
   },
   "outputs": [
    {
     "data": {
      "text/html": [
       "<div>\n",
       "<table border=\"1\" class=\"dataframe\">\n",
       "  <thead>\n",
       "    <tr style=\"text-align: right;\">\n",
       "      <th></th>\n",
       "      <th>player</th>\n",
       "      <th>team</th>\n",
       "      <th>postion</th>\n",
       "      <th>fantasy_points</th>\n",
       "    </tr>\n",
       "  </thead>\n",
       "  <tbody>\n",
       "    <tr>\n",
       "      <th>0</th>\n",
       "      <td>Cam Newton</td>\n",
       "      <td>CAR</td>\n",
       "      <td>QB</td>\n",
       "      <td>278.9</td>\n",
       "    </tr>\n",
       "    <tr>\n",
       "      <th>1</th>\n",
       "      <td>Tom Brady</td>\n",
       "      <td>NE</td>\n",
       "      <td>QB</td>\n",
       "      <td>281.2</td>\n",
       "    </tr>\n",
       "    <tr>\n",
       "      <th>2</th>\n",
       "      <td>Russell Wilson</td>\n",
       "      <td>SEA</td>\n",
       "      <td>QB</td>\n",
       "      <td>303.2</td>\n",
       "    </tr>\n",
       "    <tr>\n",
       "      <th>3</th>\n",
       "      <td>Blake Bortles</td>\n",
       "      <td>JAC</td>\n",
       "      <td>QB</td>\n",
       "      <td>205.5</td>\n",
       "    </tr>\n",
       "    <tr>\n",
       "      <th>4</th>\n",
       "      <td>Carson Palmer</td>\n",
       "      <td>ARI</td>\n",
       "      <td>QB</td>\n",
       "      <td>232.8</td>\n",
       "    </tr>\n",
       "  </tbody>\n",
       "</table>\n",
       "</div>"
      ],
      "text/plain": [
       "           player team postion fantasy_points\n",
       "0      Cam Newton  CAR      QB          278.9\n",
       "1       Tom Brady   NE      QB          281.2\n",
       "2  Russell Wilson  SEA      QB          303.2\n",
       "3   Blake Bortles  JAC      QB          205.5\n",
       "4   Carson Palmer  ARI      QB          232.8"
      ]
     },
     "execution_count": 741,
     "metadata": {},
     "output_type": "execute_result"
    }
   ],
   "source": [
    "#create an engine for localhost\n",
    "engine = create_engine('postgresql://:@localhost:5432/fantasyfootball')\n",
    "\n",
    "#lowercase all column names\n",
    "dfQB.columns = [c.lower() for c in dfQB.columns]\n",
    "dfRB.columns = [c.lower() for c in dfRB.columns]\n",
    "dfWR.columns = [c.lower() for c in dfWR.columns]\n",
    "dfTE.columns = [c.lower() for c in dfTE.columns]\n",
    "dfK.columns = [c.lower() for c in dfK.columns]\n",
    "dfResults.columns = [c.lower() for c in dfResults.columns]\n",
    "\n",
    "#write data frames to their own tables\n",
    "#dfQB.to_sql(\"qb\", engine)\n",
    "#dfRB.to_sql(\"rb\", engine)\n",
    "#dfWR.to_sql(\"wr\", engine)\n",
    "#dfTE.to_sql(\"te\", engine)\n",
    "#dfK.to_sql(\"k\", engine)\n",
    "#dfResults.to_sql('results',engine)\n",
    "\n",
    "#connect to the engine\n",
    "connection = engine.connect()\n",
    "\n",
    "#query the player name, team they were on, and projected fantasy points\n",
    "joinedQB = pd.read_sql(\"\"\"\n",
    "                        SELECT results.player,results.team,qb.postion,qb.fantasy_points\n",
    "                        FROM results\n",
    "                        JOIN qb \n",
    "                        ON results.player=qb.player\n",
    "                        ;\"\"\",con=engine)\n",
    "\n",
    "joinedRB = pd.read_sql(\"\"\"\n",
    "                        SELECT results.player,results.team,rb.postion,rb.fantasy_points\n",
    "                        FROM results\n",
    "                        JOIN rb \n",
    "                        ON results.player=rb.player\n",
    "                        ;\"\"\",con=engine)\n",
    "\n",
    "joinedWR = pd.read_sql(\"\"\"\n",
    "                        SELECT results.player,results.team,wr.postion,wr.fantasy_points\n",
    "                        FROM results\n",
    "                        JOIN wr \n",
    "                        ON results.player=wr.player\n",
    "                        ;\"\"\",con=engine)\n",
    "\n",
    "joinedTE = pd.read_sql(\"\"\"\n",
    "                        SELECT results.player,results.team,te.postion,te.fantasy_points\n",
    "                        FROM results\n",
    "                        JOIN te \n",
    "                        ON results.player=te.player\n",
    "                        ;\"\"\",con=engine)\n",
    "\n",
    "joinedK = pd.read_sql(\"\"\"\n",
    "                        SELECT results.player,results.team,k.postion, k.fantasy_points\n",
    "                        FROM results\n",
    "                        JOIN k \n",
    "                        ON results.player=k.player\n",
    "                        ;\"\"\",con=engine)\n",
    "\n",
    "#concatenate the tables into one big table\n",
    "frames = [joinedQB, joinedRB, joinedWR, joinedTE, joinedK]\n",
    "\n",
    "finalFrame = pd.concat(frames)\n",
    "finalFrame.head()\n"
   ]
  },
  {
   "cell_type": "code",
   "execution_count": 742,
   "metadata": {
    "collapsed": false
   },
   "outputs": [
    {
     "data": {
      "text/html": [
       "<div>\n",
       "<table border=\"1\" class=\"dataframe\">\n",
       "  <thead>\n",
       "    <tr style=\"text-align: right;\">\n",
       "      <th></th>\n",
       "      <th>player</th>\n",
       "      <th>team</th>\n",
       "      <th>position</th>\n",
       "      <th>games_played</th>\n",
       "      <th>actual</th>\n",
       "      <th>projected</th>\n",
       "    </tr>\n",
       "  </thead>\n",
       "  <tbody>\n",
       "    <tr>\n",
       "      <th>0</th>\n",
       "      <td>Cam Newton</td>\n",
       "      <td>CAR</td>\n",
       "      <td>QB</td>\n",
       "      <td>16</td>\n",
       "      <td>389.1</td>\n",
       "      <td>278.9</td>\n",
       "    </tr>\n",
       "    <tr>\n",
       "      <th>1</th>\n",
       "      <td>Tom Brady</td>\n",
       "      <td>NE</td>\n",
       "      <td>QB</td>\n",
       "      <td>16</td>\n",
       "      <td>343.7</td>\n",
       "      <td>281.2</td>\n",
       "    </tr>\n",
       "    <tr>\n",
       "      <th>2</th>\n",
       "      <td>Russell Wilson</td>\n",
       "      <td>SEA</td>\n",
       "      <td>QB</td>\n",
       "      <td>16</td>\n",
       "      <td>336.4</td>\n",
       "      <td>303.2</td>\n",
       "    </tr>\n",
       "    <tr>\n",
       "      <th>3</th>\n",
       "      <td>Blake Bortles</td>\n",
       "      <td>JAC</td>\n",
       "      <td>QB</td>\n",
       "      <td>16</td>\n",
       "      <td>316.1</td>\n",
       "      <td>205.5</td>\n",
       "    </tr>\n",
       "    <tr>\n",
       "      <th>4</th>\n",
       "      <td>Carson Palmer</td>\n",
       "      <td>ARI</td>\n",
       "      <td>QB</td>\n",
       "      <td>16</td>\n",
       "      <td>309.2</td>\n",
       "      <td>232.8</td>\n",
       "    </tr>\n",
       "  </tbody>\n",
       "</table>\n",
       "</div>"
      ],
      "text/plain": [
       "           player team position games_played actual  projected\n",
       "0      Cam Newton  CAR       QB           16  389.1      278.9\n",
       "1       Tom Brady   NE       QB           16  343.7      281.2\n",
       "2  Russell Wilson  SEA       QB           16  336.4      303.2\n",
       "3   Blake Bortles  JAC       QB           16  316.1      205.5\n",
       "4   Carson Palmer  ARI       QB           16  309.2      232.8"
      ]
     },
     "execution_count": 742,
     "metadata": {},
     "output_type": "execute_result"
    }
   ],
   "source": [
    "#drop names that doesn't exist in the other table and drop duplicates\n",
    "somethingNew = (dfResults.loc[dfResults['player'].isin(finalFrame['player'])])\n",
    "somethingNew = somethingNew.drop_duplicates(['player'],keep='last')\n",
    "\n",
    "somethingWeird = (finalFrame.loc[finalFrame['player'].isin(dfResults['player'])])\n",
    "somethingWeird = somethingWeird.drop_duplicates(['player'], keep='last')\n",
    "somethingWeird['fantasy_points'] = somethingWeird['fantasy_points'].astype(float)\n",
    "\n",
    "#join on the name of players, clean columns, rename some columns\n",
    "newDF = pd.merge(somethingNew, somethingWeird, on='player')\n",
    "newDF.drop(['rank','avg_points','team_y'],axis=1,inplace=True)\n",
    "newDF = newDF[['player','team_x','position','games_played','total_points','fantasy_points']]\n",
    "newDF = newDF.rename(index=str, columns={\"team_x\": \"team\", \"total_points\": \"actual\",\"fantasy_points\":\"projected\"})\n",
    "\n",
    "newDF.head()"
   ]
  },
  {
   "cell_type": "markdown",
   "metadata": {},
   "source": [
    "# Projected vs Actual from the experts"
   ]
  },
  {
   "cell_type": "code",
   "execution_count": 743,
   "metadata": {
    "collapsed": false
   },
   "outputs": [
    {
     "name": "stdout",
     "output_type": "stream",
     "text": [
      "R-squared: 0.600625723793\n"
     ]
    },
    {
     "data": {
      "image/png": "[encoded data removed]",
      "text/plain": [
       "<matplotlib.figure.Figure at 0x12c67bd50>"
      ]
     },
     "metadata": {},
     "output_type": "display_data"
    }
   ],
   "source": [
    "#plot projected vs actual\n",
    "x = newDF.projected.tolist()\n",
    "y = newDF.actual.tolist()\n",
    "plt.scatter(x,y)\n",
    "plt.xlabel('Projected')\n",
    "plt.ylabel('Actual')\n",
    "\n",
    "from scipy import stats\n",
    "slope, intercept, r_value, p_value, std_err = stats.linregress(newDF['projected'].astype(float),newDF['actual'].astype(float))\n",
    "print\"R-squared:\", r_value**2"
   ]
  },
  {
   "cell_type": "markdown",
   "metadata": {},
   "source": [
    "# Data Mining for 2014 results"
   ]
  },
  {
   "cell_type": "code",
   "execution_count": 744,
   "metadata": {
    "collapsed": false
   },
   "outputs": [
    {
     "name": "stderr",
     "output_type": "stream",
     "text": [
      "/Users/SangYeob/anaconda/lib/python2.7/site-packages/ipykernel/__main__.py:40: FutureWarning: convert_objects is deprecated.  Use the data-type specific converters pd.to_datetime, pd.to_timedelta and pd.to_numeric.\n"
     ]
    },
    {
     "data": {
      "text/html": [
       "<div>\n",
       "<table border=\"1\" class=\"dataframe\">\n",
       "  <thead>\n",
       "    <tr style=\"text-align: right;\">\n",
       "      <th></th>\n",
       "      <th>Player</th>\n",
       "      <th>Team</th>\n",
       "      <th>Games</th>\n",
       "      <th>Comp_P</th>\n",
       "      <th>Att_P</th>\n",
       "      <th>Yards_P</th>\n",
       "      <th>TD_P</th>\n",
       "      <th>INT</th>\n",
       "      <th>ATT_R</th>\n",
       "      <th>Yards_R</th>\n",
       "      <th>TD_R</th>\n",
       "      <th>FPTs</th>\n",
       "      <th>FPTs/G</th>\n",
       "      <th>Comp_Rate</th>\n",
       "      <th>Total_Yards</th>\n",
       "      <th>Total_TD</th>\n",
       "      <th>Total_Yards_perComp</th>\n",
       "    </tr>\n",
       "  </thead>\n",
       "  <tbody>\n",
       "    <tr>\n",
       "      <th>0</th>\n",
       "      <td>Andrew Luck</td>\n",
       "      <td>IND</td>\n",
       "      <td>16.0</td>\n",
       "      <td>380</td>\n",
       "      <td>616</td>\n",
       "      <td>4761</td>\n",
       "      <td>40.0</td>\n",
       "      <td>16</td>\n",
       "      <td>64</td>\n",
       "      <td>263</td>\n",
       "      <td>3</td>\n",
       "      <td>442.4</td>\n",
       "      <td>27.6</td>\n",
       "      <td>0.616883</td>\n",
       "      <td>5024</td>\n",
       "      <td>43.0</td>\n",
       "      <td>13.221053</td>\n",
       "    </tr>\n",
       "    <tr>\n",
       "      <th>1</th>\n",
       "      <td>Aaron Rodgers</td>\n",
       "      <td>GB</td>\n",
       "      <td>16.0</td>\n",
       "      <td>341</td>\n",
       "      <td>520</td>\n",
       "      <td>4381</td>\n",
       "      <td>38.0</td>\n",
       "      <td>5</td>\n",
       "      <td>43</td>\n",
       "      <td>269</td>\n",
       "      <td>2</td>\n",
       "      <td>410.0</td>\n",
       "      <td>25.6</td>\n",
       "      <td>0.655769</td>\n",
       "      <td>4650</td>\n",
       "      <td>40.0</td>\n",
       "      <td>13.636364</td>\n",
       "    </tr>\n",
       "    <tr>\n",
       "      <th>2</th>\n",
       "      <td>Drew Brees</td>\n",
       "      <td>NO</td>\n",
       "      <td>16.0</td>\n",
       "      <td>456</td>\n",
       "      <td>659</td>\n",
       "      <td>4952</td>\n",
       "      <td>33.0</td>\n",
       "      <td>17</td>\n",
       "      <td>27</td>\n",
       "      <td>68</td>\n",
       "      <td>1</td>\n",
       "      <td>392.4</td>\n",
       "      <td>24.5</td>\n",
       "      <td>0.691958</td>\n",
       "      <td>5020</td>\n",
       "      <td>34.0</td>\n",
       "      <td>11.008772</td>\n",
       "    </tr>\n",
       "    <tr>\n",
       "      <th>3</th>\n",
       "      <td>Peyton Manning</td>\n",
       "      <td>DEN</td>\n",
       "      <td>16.0</td>\n",
       "      <td>395</td>\n",
       "      <td>597</td>\n",
       "      <td>4727</td>\n",
       "      <td>39.0</td>\n",
       "      <td>15</td>\n",
       "      <td>24</td>\n",
       "      <td>-24</td>\n",
       "      <td>0</td>\n",
       "      <td>390.0</td>\n",
       "      <td>24.4</td>\n",
       "      <td>0.661642</td>\n",
       "      <td>4703</td>\n",
       "      <td>39.0</td>\n",
       "      <td>11.906329</td>\n",
       "    </tr>\n",
       "    <tr>\n",
       "      <th>4</th>\n",
       "      <td>Ben Roethlisberger</td>\n",
       "      <td>PIT</td>\n",
       "      <td>16.0</td>\n",
       "      <td>408</td>\n",
       "      <td>608</td>\n",
       "      <td>4952</td>\n",
       "      <td>32.0</td>\n",
       "      <td>9</td>\n",
       "      <td>32</td>\n",
       "      <td>27</td>\n",
       "      <td>0</td>\n",
       "      <td>378.3</td>\n",
       "      <td>23.6</td>\n",
       "      <td>0.671053</td>\n",
       "      <td>4979</td>\n",
       "      <td>32.0</td>\n",
       "      <td>12.203431</td>\n",
       "    </tr>\n",
       "  </tbody>\n",
       "</table>\n",
       "</div>"
      ],
      "text/plain": [
       "               Player Team  Games  Comp_P  Att_P  Yards_P  TD_P  INT  ATT_R  \\\n",
       "0         Andrew Luck  IND   16.0     380    616     4761  40.0   16     64   \n",
       "1       Aaron Rodgers   GB   16.0     341    520     4381  38.0    5     43   \n",
       "2          Drew Brees   NO   16.0     456    659     4952  33.0   17     27   \n",
       "3      Peyton Manning  DEN   16.0     395    597     4727  39.0   15     24   \n",
       "4  Ben Roethlisberger  PIT   16.0     408    608     4952  32.0    9     32   \n",
       "\n",
       "   Yards_R  TD_R   FPTs  FPTs/G  Comp_Rate  Total_Yards  Total_TD  \\\n",
       "0      263     3  442.4    27.6   0.616883         5024      43.0   \n",
       "1      269     2  410.0    25.6   0.655769         4650      40.0   \n",
       "2       68     1  392.4    24.5   0.691958         5020      34.0   \n",
       "3      -24     0  390.0    24.4   0.661642         4703      39.0   \n",
       "4       27     0  378.3    23.6   0.671053         4979      32.0   \n",
       "\n",
       "   Total_Yards_perComp  \n",
       "0            13.221053  \n",
       "1            13.636364  \n",
       "2            11.008772  \n",
       "3            11.906329  \n",
       "4            12.203431  "
      ]
     },
     "execution_count": 744,
     "metadata": {},
     "output_type": "execute_result"
    }
   ],
   "source": [
    "URLQB1 = \"http://fftoday.com/stats/playerstats.php?Season=2014&GameWeek=Season&PosID=10&LeagueID=10\"\n",
    "URLQB2 = \"http://fftoday.com/stats/playerstats.php?Season=2014&GameWeek=Season&PosID=10&LeagueID=1&order_by=FFPts&sort_order=DESC&cur_page=1\"\n",
    "\n",
    "#parse the page\n",
    "soupQB1 = BeautifulSoup(requests.get(URLQB1).text)\n",
    "soupQB2 = BeautifulSoup(requests.get(URLQB2).text)\n",
    "\n",
    "#get the data from the first page\n",
    "QB1_data = [[i for i in soupQB1('table')[9].findAll('tr')[0]('tr')[i].text.split()[1:]] \n",
    "               for i in range(len(soupQB1('table')[9].findAll('tr')[0]('tr')))]\n",
    "columnNames = ['First','Last','Team','Games','Comp_P','Att_P','Yards_P','TD_P','INT','ATT_R','Yards_R','TD_R','FPTs','FPTs/G','d']\n",
    "\n",
    "\n",
    "dfQB12014 = pd.DataFrame(QB1_data[2:],columns=columnNames)\n",
    "\n",
    "#merge first name and last name into one column\n",
    "dfQB12014['First'] = dfQB12014[[0,1]].apply(lambda x: ' '.join(x),axis=1)\n",
    "del dfQB12014['d']\n",
    "del dfQB12014['Last']\n",
    "\n",
    "#get the data from the second page\n",
    "QB2_data = [[i for i in soupQB2('table')[9].findAll('tr')[0]('tr')[i].text.split()[1:]] \n",
    "               for i in range(len(soupQB2('table')[9].findAll('tr')[0]('tr')))]\n",
    "\n",
    "columnNames = ['First','Last','Team','Games','Comp_P','Att_P','Yards_P','TD_P','INT','ATT_R','Yards_R','TD_R','FPTs','FPTs/G']\n",
    "\n",
    "#merge first name and last name into one column\n",
    "dfQB22014 = pd.DataFrame(QB2_data[2:],columns=columnNames)\n",
    "dfQB22014['First'] = dfQB22014[[0,1]].apply(lambda x: ' '.join(x),axis=1)\n",
    "del dfQB22014['Last']\n",
    "\n",
    "#put both tables together\n",
    "dfQB2014 = pd.concat([dfQB12014,dfQB22014])\n",
    "dfQB2014.rename(columns={'First': 'Player'}, inplace=True)\n",
    "\n",
    "#strip the commas\n",
    "dfQB2014['Yards_P'] = dfQB2014['Yards_P'].str.replace(',', '')\n",
    "\n",
    "#convert objects into numeric(integers or floats)\n",
    "dfQB2014 = dfQB2014.convert_objects(convert_numeric=True)\n",
    "\n",
    "#add a new column for completion rate, total yards, total touchdowns, yards per completions\n",
    "dfQB2014['Comp_Rate'] = dfQB2014['Comp_P']/dfQB2014['Att_P']\n",
    "dfQB2014['Total_Yards'] = dfQB2014['Yards_P'] + dfQB2014['Yards_R']\n",
    "dfQB2014['Total_TD'] = dfQB2014['TD_P'] + dfQB2014['TD_R']\n",
    "dfQB2014['Total_Yards_perComp'] = dfQB2014['Total_Yards']/dfQB2014['Comp_P']\n",
    "\n",
    "dfQB2014.head()"
   ]
  },
  {
   "cell_type": "code",
   "execution_count": 745,
   "metadata": {
    "collapsed": false
   },
   "outputs": [
    {
     "data": {
      "text/plain": [
       "<matplotlib.axes._subplots.AxesSubplot at 0x120ba54d0>"
      ]
     },
     "execution_count": 745,
     "metadata": {},
     "output_type": "execute_result"
    },
    {
     "data": {
      "image/png": "[encoded data removed]",
      "text/plain": [
       "<matplotlib.figure.Figure at 0x128584290>"
      ]
     },
     "metadata": {},
     "output_type": "display_data"
    }
   ],
   "source": [
    "sns.heatmap(dfQB2014.corr())"
   ]
  },
  {
   "cell_type": "markdown",
   "metadata": {},
   "source": [
    "# Building a simple model"
   ]
  },
  {
   "cell_type": "markdown",
   "metadata": {},
   "source": [
    "somethingNew = (dfResults.loc[dfResults['player'].isin(finalFrame['player'])])\n",
    "somethingNew = somethingNew.drop_duplicates(['player'],keep='last')\n",
    "\n",
    "dfQB2014 = somethingNew.loc[somethingNew['player'].isin(dfQB2014['Player'])]\n",
    "dfQB2014.head()\n",
    "print len(dfQB2014)\n",
    "\n",
    "somethingNew1 = dfQB2014.loc[dfQB2014['player'].isin(somethingNew['player'])]\n",
    "print len(somethingNew1)"
   ]
  },
  {
   "cell_type": "code",
   "execution_count": 746,
   "metadata": {
    "collapsed": false
   },
   "outputs": [],
   "source": [
    "dfQB2014.rename(columns={'Player': 'player'}, inplace=True)"
   ]
  },
  {
   "cell_type": "code",
   "execution_count": 747,
   "metadata": {
    "collapsed": false
   },
   "outputs": [],
   "source": [
    "resultQB = pd.merge(dfQB2014, somethingNew, on='player')"
   ]
  },
  {
   "cell_type": "code",
   "execution_count": 748,
   "metadata": {
    "collapsed": false
   },
   "outputs": [],
   "source": [
    "resultQB.drop(['team','position','games_played','avg_points'],inplace=True,axis=1)\n"
   ]
  },
  {
   "cell_type": "code",
   "execution_count": 749,
   "metadata": {
    "collapsed": false
   },
   "outputs": [
    {
     "name": "stderr",
     "output_type": "stream",
     "text": [
      "/Users/SangYeob/anaconda/lib/python2.7/site-packages/ipykernel/__main__.py:10: FutureWarning: convert_objects is deprecated.  Use the data-type specific converters pd.to_datetime, pd.to_timedelta and pd.to_numeric.\n",
      "/Users/SangYeob/anaconda/lib/python2.7/site-packages/ipykernel/__main__.py:11: FutureWarning: convert_objects is deprecated.  Use the data-type specific converters pd.to_datetime, pd.to_timedelta and pd.to_numeric.\n"
     ]
    },
    {
     "data": {
      "image/png": "[encoded data removed]",
      "text/plain": [
       "<matplotlib.figure.Figure at 0x1208094d0>"
      ]
     },
     "metadata": {},
     "output_type": "display_data"
    },
    {
     "name": "stdout",
     "output_type": "stream",
     "text": [
      "Mean Square Error: 255.58\n",
      "R2 value for Lin Reg: 0.310893\n"
     ]
    },
    {
     "name": "stderr",
     "output_type": "stream",
     "text": [
      "/Users/SangYeob/anaconda/lib/python2.7/site-packages/sklearn/linear_model/coordinate_descent.py:1051: DataConversionWarning: A column-vector y was passed when a 1d array was expected. Please change the shape of y to (n_samples, ), for example using ravel().\n",
      "  y = column_or_1d(y, warn=True)\n"
     ]
    },
    {
     "data": {
      "image/png": "[encoded data removed]",
      "text/plain": [
       "<matplotlib.figure.Figure at 0x1191a1310>"
      ]
     },
     "metadata": {},
     "output_type": "display_data"
    },
    {
     "name": "stdout",
     "output_type": "stream",
     "text": [
      "Mean Square Error: 1915.18\n",
      "R2 value for Lasso: 0.310849\n"
     ]
    }
   ],
   "source": [
    "from sklearn import linear_model\n",
    "from sklearn import datasets, linear_model\n",
    "from sklearn.cross_validation import train_test_split\n",
    "from sklearn.metrics import r2_score\n",
    "\n",
    "\n",
    "X_QB = resultQB[['Total_Yards','Total_TD','Total_Yards_perComp']]\n",
    "y_QB = resultQB[['FPTs']]\n",
    "\n",
    "X_QB = X_QB.convert_objects(convert_numeric=True)\n",
    "y_QB = y_QB.convert_objects(convert_numeric=True)\n",
    "\n",
    "\n",
    "X_QB.replace([np.inf, -np.inf], np.nan,inplace=True)\n",
    "y_QB = y_QB.drop(y_QB.index[[-1]])\n",
    "X_QB.dropna(inplace=True)\n",
    "\n",
    "\n",
    "#Building a model using the train sets and test sets\n",
    "lm = linear_model.LinearRegression()\n",
    "\n",
    "model = lm.fit(X_QB, y_QB)\n",
    "predictions = lm.predict(X_QB)\n",
    "target = resultQB[['total_points']].astype(float)\n",
    "target = target.drop(target.index[[-1]])\n",
    "\n",
    "## The line / model\n",
    "plt.scatter(target,predictions)\n",
    "plt.xlabel(\"True Values\")\n",
    "plt.ylabel(\"Predictions\")\n",
    "plt.show()\n",
    "#print \"Score:\", model.score(X_QB, target)  \n",
    "print(\"Mean Square Error: %.2f\" % np.mean(((predictions - target) ** 2)/len(X_QB)))\n",
    "print \"R2 value for Lin Reg: %f\" % r2_score(predictions, target) \n",
    "\n",
    "ll = linear_model.LassoCV(alphas=[0.01, 1, 100]).fit(X_QB,y_QB)\n",
    "\n",
    "predictions1 = ll.predict(X_QB)\n",
    "\n",
    "sns.regplot(target,predictions1)\n",
    "plt.xlabel(\"True Values\")\n",
    "plt.ylabel(\"Predictions\")\n",
    "plt.show()\n",
    "\n",
    "print(\"Mean Square Error: %.2f\" % np.mean((([predictions1] - target) ** 2)/len(predictions1)))\n",
    "print \"R2 value for Lasso: %f\" % r2_score(predictions1, target) \n",
    "#use the 2015 results and try it on the model\n",
    "\n",
    "#use a diff method to model it"
   ]
  },
  {
   "cell_type": "code",
   "execution_count": 750,
   "metadata": {
    "collapsed": false
   },
   "outputs": [
    {
     "name": "stdout",
     "output_type": "stream",
     "text": [
      "Best score: 78.0547413298\n",
      "Best depth: 8\n"
     ]
    },
    {
     "data": {
      "image/png": "[encoded data removed]",
      "text/plain": [
       "<matplotlib.figure.Figure at 0x1196d4f10>"
      ]
     },
     "metadata": {},
     "output_type": "display_data"
    },
    {
     "data": {
      "image/png": "[encoded data removed]",
      "text/plain": [
       "<matplotlib.figure.Figure at 0x119e5b910>"
      ]
     },
     "metadata": {},
     "output_type": "display_data"
    },
    {
     "name": "stdout",
     "output_type": "stream",
     "text": [
      "R2 value for decision tree: 0.323211\n"
     ]
    }
   ],
   "source": [
    "from sklearn.tree import DecisionTreeRegressor\n",
    "from sklearn.cross_validation import KFold, cross_val_score\n",
    "\n",
    "all_scores = []\n",
    "best_score = -1\n",
    "best_depth = 0\n",
    "for i in range(1, 9):\n",
    "    treereg = DecisionTreeRegressor(max_depth=i)\n",
    "    scores = cross_val_score(treereg, X_QB, y_QB, cv=3, n_jobs = -1, scoring='mean_squared_error')\n",
    "    current_score = np.mean(np.sqrt(-scores))\n",
    "    # If the score mean is better than the current best, or best is the default (-1), then update!\n",
    "    if current_score < best_score or best_score == -1:\n",
    "        best_score = current_score\n",
    "        best_depth = i\n",
    "    # store to plot anyway!\n",
    "    all_scores.append(current_score)\n",
    "    \n",
    "print \"Best score: %s\" % best_score\n",
    "print \"Best depth: %s\" % best_depth\n",
    "\n",
    "# now actually fit the model\n",
    "treereg = DecisionTreeRegressor(max_depth=best_depth)\n",
    "#X_train, X_test, y_train, y_test = train_test_split(X_QB, y_QB, test_size=0.3)\n",
    "treereg.fit(X_QB, y_QB)\n",
    "\n",
    "plt.figure()\n",
    "plt.plot(range(1, 9), all_scores)\n",
    "plt.xlabel('x=max tree depth')\n",
    "plt.show()\n",
    "\n",
    "preds = treereg.predict(X_QB)\n",
    "\n",
    "sns.regplot(target,preds)\n",
    "plt.xlabel(\"True Values\")\n",
    "plt.ylabel(\"Predictions\")\n",
    "plt.show()\n",
    "print \"R2 value for decision tree: %f\" % r2_score(preds, target) \n"
   ]
  },
  {
   "cell_type": "code",
   "execution_count": 751,
   "metadata": {
    "collapsed": false
   },
   "outputs": [
    {
     "name": "stderr",
     "output_type": "stream",
     "text": [
      "/Users/SangYeob/anaconda/lib/python2.7/site-packages/sklearn/cross_validation.py:1531: DataConversionWarning: A column-vector y was passed when a 1d array was expected. Please change the shape of y to (n_samples,), for example using ravel().\n",
      "  estimator.fit(X_train, y_train, **fit_params)\n",
      "/Users/SangYeob/anaconda/lib/python2.7/site-packages/sklearn/cross_validation.py:1531: DataConversionWarning: A column-vector y was passed when a 1d array was expected. Please change the shape of y to (n_samples,), for example using ravel().\n",
      "  estimator.fit(X_train, y_train, **fit_params)\n",
      "/Users/SangYeob/anaconda/lib/python2.7/site-packages/sklearn/cross_validation.py:1531: DataConversionWarning: A column-vector y was passed when a 1d array was expected. Please change the shape of y to (n_samples,), for example using ravel().\n",
      "  estimator.fit(X_train, y_train, **fit_params)\n",
      "[Parallel(n_jobs=-1)]: Done   3 out of   3 | elapsed:    0.1s finished\n",
      "/Users/SangYeob/anaconda/lib/python2.7/site-packages/ipykernel/__main__.py:4: DataConversionWarning: A column-vector y was passed when a 1d array was expected. Please change the shape of y to (n_samples,), for example using ravel().\n"
     ]
    },
    {
     "data": {
      "image/png": "[encoded data removed]",
      "text/plain": [
       "<matplotlib.figure.Figure at 0x1282b9110>"
      ]
     },
     "metadata": {},
     "output_type": "display_data"
    },
    {
     "name": "stdout",
     "output_type": "stream",
     "text": [
      "R2 value for Random Forest: 0.312788\n"
     ]
    }
   ],
   "source": [
    "from sklearn.ensemble import RandomForestRegressor, AdaBoostRegressor\n",
    "rf = RandomForestRegressor()\n",
    "rfScore = cross_val_score(rf,X_QB,y_QB,cv=3,verbose=True,n_jobs=-1)\n",
    "rf.fit(X_QB, y_QB)\n",
    "\n",
    "preds_rf = rf.predict(X_QB)\n",
    "\n",
    "sns.regplot(target,preds_rf)\n",
    "plt.xlabel(\"True Values\")\n",
    "plt.ylabel(\"Predictions\")\n",
    "plt.show()\n",
    "print \"R2 value for Random Forest: %f\" % r2_score(preds_rf, target) \n",
    "\n",
    "#print predictions, predictions1,preds,preds_rf"
   ]
  },
  {
   "cell_type": "markdown",
   "metadata": {},
   "source": [
    "The reason that the R^2 values are so good is because fantasy points are derived from the stats. You can also see that from the heatmap that they have strong positive relationship between fantasy points and yards/touchdowns. I need to build different models and test it against 2015 results.\n"
   ]
  },
  {
   "cell_type": "code",
   "execution_count": 752,
   "metadata": {
    "collapsed": false
   },
   "outputs": [
    {
     "name": "stderr",
     "output_type": "stream",
     "text": [
      "/Users/SangYeob/anaconda/lib/python2.7/site-packages/ipykernel/__main__.py:30: FutureWarning: convert_objects is deprecated.  Use the data-type specific converters pd.to_datetime, pd.to_timedelta and pd.to_numeric.\n"
     ]
    },
    {
     "data": {
      "text/html": [
       "<div>\n",
       "<table border=\"1\" class=\"dataframe\">\n",
       "  <thead>\n",
       "    <tr style=\"text-align: right;\">\n",
       "      <th></th>\n",
       "      <th>Player</th>\n",
       "      <th>Team</th>\n",
       "      <th>Games</th>\n",
       "      <th>Att_Rush</th>\n",
       "      <th>Yards_Rush</th>\n",
       "      <th>TD_Rush</th>\n",
       "      <th>Target</th>\n",
       "      <th>RecNum</th>\n",
       "      <th>Yards_Rec</th>\n",
       "      <th>TD_Rec</th>\n",
       "      <th>FPTs</th>\n",
       "      <th>FPTs/G</th>\n",
       "    </tr>\n",
       "  </thead>\n",
       "  <tbody>\n",
       "    <tr>\n",
       "      <th>0</th>\n",
       "      <td>DeMarco Murray</td>\n",
       "      <td>DAL</td>\n",
       "      <td>16</td>\n",
       "      <td>393</td>\n",
       "      <td>1845</td>\n",
       "      <td>13</td>\n",
       "      <td>64</td>\n",
       "      <td>57</td>\n",
       "      <td>416</td>\n",
       "      <td>0</td>\n",
       "      <td>304.1</td>\n",
       "      <td>19.0</td>\n",
       "    </tr>\n",
       "    <tr>\n",
       "      <th>1</th>\n",
       "      <td>Le'Veon Bell</td>\n",
       "      <td>PIT</td>\n",
       "      <td>16</td>\n",
       "      <td>290</td>\n",
       "      <td>1361</td>\n",
       "      <td>8</td>\n",
       "      <td>105</td>\n",
       "      <td>83</td>\n",
       "      <td>854</td>\n",
       "      <td>3</td>\n",
       "      <td>287.5</td>\n",
       "      <td>18.0</td>\n",
       "    </tr>\n",
       "    <tr>\n",
       "      <th>2</th>\n",
       "      <td>Marshawn Lynch</td>\n",
       "      <td>SEA</td>\n",
       "      <td>16</td>\n",
       "      <td>280</td>\n",
       "      <td>1306</td>\n",
       "      <td>13</td>\n",
       "      <td>48</td>\n",
       "      <td>37</td>\n",
       "      <td>367</td>\n",
       "      <td>4</td>\n",
       "      <td>269.3</td>\n",
       "      <td>16.8</td>\n",
       "    </tr>\n",
       "    <tr>\n",
       "      <th>3</th>\n",
       "      <td>Matt Forte</td>\n",
       "      <td>CHI</td>\n",
       "      <td>16</td>\n",
       "      <td>266</td>\n",
       "      <td>1038</td>\n",
       "      <td>6</td>\n",
       "      <td>130</td>\n",
       "      <td>102</td>\n",
       "      <td>808</td>\n",
       "      <td>4</td>\n",
       "      <td>244.6</td>\n",
       "      <td>15.3</td>\n",
       "    </tr>\n",
       "    <tr>\n",
       "      <th>4</th>\n",
       "      <td>Arian Foster</td>\n",
       "      <td>HOU</td>\n",
       "      <td>13</td>\n",
       "      <td>260</td>\n",
       "      <td>1246</td>\n",
       "      <td>8</td>\n",
       "      <td>59</td>\n",
       "      <td>38</td>\n",
       "      <td>327</td>\n",
       "      <td>5</td>\n",
       "      <td>235.3</td>\n",
       "      <td>18.1</td>\n",
       "    </tr>\n",
       "  </tbody>\n",
       "</table>\n",
       "</div>"
      ],
      "text/plain": [
       "           Player Team  Games  Att_Rush  Yards_Rush  TD_Rush  Target  RecNum  \\\n",
       "0  DeMarco Murray  DAL     16       393        1845       13      64      57   \n",
       "1    Le'Veon Bell  PIT     16       290        1361        8     105      83   \n",
       "2  Marshawn Lynch  SEA     16       280        1306       13      48      37   \n",
       "3      Matt Forte  CHI     16       266        1038        6     130     102   \n",
       "4    Arian Foster  HOU     13       260        1246        8      59      38   \n",
       "\n",
       "   Yards_Rec  TD_Rec   FPTs  FPTs/G  \n",
       "0        416       0  304.1    19.0  \n",
       "1        854       3  287.5    18.0  \n",
       "2        367       4  269.3    16.8  \n",
       "3        808       4  244.6    15.3  \n",
       "4        327       5  235.3    18.1  "
      ]
     },
     "execution_count": 752,
     "metadata": {},
     "output_type": "execute_result"
    }
   ],
   "source": [
    "URLRB1 = \"http://fftoday.com/stats/playerstats.php?Season=2014&GameWeek=Season&PosID=20&LeagueID=0\"\n",
    "URLRB2 = \"http://fftoday.com/stats/playerstats.php?Season=2014&GameWeek=Season&PosID=20&LeagueID=1&order_by=FFPts&sort_order=DESC&cur_page=3\"\n",
    "\n",
    "#parse the page\n",
    "soupRB1 = BeautifulSoup(requests.get(URLRB1).text)\n",
    "soupRB2 = BeautifulSoup(requests.get(URLRB2).text)\n",
    "\n",
    "RB1_data = [[i for i in soupRB1('table')[9].findAll('tr')[0]('tr')[i].text.split()[1:]] \n",
    "               for i in range(len(soupRB1('table')[9].findAll('tr')[0]('tr')))]\n",
    "columnNames = ['First','Last','Team','Games', 'Att_Rush','Yards_Rush','TD_Rush','Target','RecNum','Yards_Rec','TD_Rec','FPTs','FPTs/G']\n",
    "\n",
    "\n",
    "dfRB12014 = pd.DataFrame(RB1_data[2:],columns=columnNames)\n",
    "\n",
    "dfRB12014['First'] = dfRB12014[[0,1]].apply(lambda x: ' '.join(x),axis=1)\n",
    "del dfRB12014['Last']\n",
    "\n",
    "RB2_data = [[i for i in soupRB2('table')[9].findAll('tr')[0]('tr')[i].text.split()[1:]] \n",
    "               for i in range(len(soupRB2('table')[9].findAll('tr')[0]('tr')))]\n",
    "\n",
    "dfRB22014 = pd.DataFrame(RB2_data[2:],columns=columnNames)\n",
    "dfRB22014['First'] = dfRB22014[[0,1]].apply(lambda x: ' '.join(x),axis=1)\n",
    "del dfRB22014['Last']\n",
    "\n",
    "dfRB2014 = pd.concat([dfRB12014,dfRB22014])\n",
    "dfRB2014.rename(columns={'First': 'Player'}, inplace=True)\n",
    "dfRB2014['Yards_Rush'] = dfRB2014['Yards_Rush'].str.replace(',','')\n",
    "\n",
    "#convert objects into numeric(integers or floats)\n",
    "dfRB2014 = dfRB2014.convert_objects(convert_numeric=True)\n",
    "\n",
    "dfRB2014.head()"
   ]
  },
  {
   "cell_type": "code",
   "execution_count": 753,
   "metadata": {
    "collapsed": false
   },
   "outputs": [
    {
     "name": "stderr",
     "output_type": "stream",
     "text": [
      "/Users/SangYeob/anaconda/lib/python2.7/site-packages/ipykernel/__main__.py:3: FutureWarning: convert_objects is deprecated.  Use the data-type specific converters pd.to_datetime, pd.to_timedelta and pd.to_numeric.\n",
      "  app.launch_new_instance()\n"
     ]
    },
    {
     "data": {
      "text/html": [
       "<div>\n",
       "<table border=\"1\" class=\"dataframe\">\n",
       "  <thead>\n",
       "    <tr style=\"text-align: right;\">\n",
       "      <th></th>\n",
       "      <th>player</th>\n",
       "      <th>Team</th>\n",
       "      <th>Games</th>\n",
       "      <th>Att_Rush</th>\n",
       "      <th>Yards_Rush</th>\n",
       "      <th>TD_Rush</th>\n",
       "      <th>Target</th>\n",
       "      <th>RecNum</th>\n",
       "      <th>Yards_Rec</th>\n",
       "      <th>TD_Rec</th>\n",
       "      <th>FPTs</th>\n",
       "      <th>FPTs/G</th>\n",
       "      <th>rank</th>\n",
       "      <th>total_points</th>\n",
       "      <th>Total_Yards</th>\n",
       "      <th>Total_TD</th>\n",
       "      <th>Att</th>\n",
       "      <th>Total_Yards_perComp</th>\n",
       "    </tr>\n",
       "  </thead>\n",
       "  <tbody>\n",
       "    <tr>\n",
       "      <th>0</th>\n",
       "      <td>DeMarco Murray</td>\n",
       "      <td>DAL</td>\n",
       "      <td>16</td>\n",
       "      <td>393</td>\n",
       "      <td>1845</td>\n",
       "      <td>13</td>\n",
       "      <td>64</td>\n",
       "      <td>57</td>\n",
       "      <td>416</td>\n",
       "      <td>0</td>\n",
       "      <td>304.1</td>\n",
       "      <td>19.0</td>\n",
       "      <td>96</td>\n",
       "      <td>140.1</td>\n",
       "      <td>2261</td>\n",
       "      <td>13</td>\n",
       "      <td>450</td>\n",
       "      <td>5.024444</td>\n",
       "    </tr>\n",
       "    <tr>\n",
       "      <th>1</th>\n",
       "      <td>Le'Veon Bell</td>\n",
       "      <td>PIT</td>\n",
       "      <td>16</td>\n",
       "      <td>290</td>\n",
       "      <td>1361</td>\n",
       "      <td>8</td>\n",
       "      <td>105</td>\n",
       "      <td>83</td>\n",
       "      <td>854</td>\n",
       "      <td>3</td>\n",
       "      <td>287.5</td>\n",
       "      <td>18.0</td>\n",
       "      <td>198</td>\n",
       "      <td>87.2</td>\n",
       "      <td>2215</td>\n",
       "      <td>11</td>\n",
       "      <td>373</td>\n",
       "      <td>5.938338</td>\n",
       "    </tr>\n",
       "    <tr>\n",
       "      <th>2</th>\n",
       "      <td>Marshawn Lynch</td>\n",
       "      <td>SEA</td>\n",
       "      <td>16</td>\n",
       "      <td>280</td>\n",
       "      <td>1306</td>\n",
       "      <td>13</td>\n",
       "      <td>48</td>\n",
       "      <td>37</td>\n",
       "      <td>367</td>\n",
       "      <td>4</td>\n",
       "      <td>269.3</td>\n",
       "      <td>16.8</td>\n",
       "      <td>239</td>\n",
       "      <td>69.7</td>\n",
       "      <td>1673</td>\n",
       "      <td>17</td>\n",
       "      <td>317</td>\n",
       "      <td>5.277603</td>\n",
       "    </tr>\n",
       "    <tr>\n",
       "      <th>3</th>\n",
       "      <td>Matt Forte</td>\n",
       "      <td>CHI</td>\n",
       "      <td>16</td>\n",
       "      <td>266</td>\n",
       "      <td>1038</td>\n",
       "      <td>6</td>\n",
       "      <td>130</td>\n",
       "      <td>102</td>\n",
       "      <td>808</td>\n",
       "      <td>4</td>\n",
       "      <td>244.6</td>\n",
       "      <td>15.3</td>\n",
       "      <td>50</td>\n",
       "      <td>170.7</td>\n",
       "      <td>1846</td>\n",
       "      <td>10</td>\n",
       "      <td>368</td>\n",
       "      <td>5.016304</td>\n",
       "    </tr>\n",
       "    <tr>\n",
       "      <th>4</th>\n",
       "      <td>Arian Foster</td>\n",
       "      <td>HOU</td>\n",
       "      <td>13</td>\n",
       "      <td>260</td>\n",
       "      <td>1246</td>\n",
       "      <td>8</td>\n",
       "      <td>59</td>\n",
       "      <td>38</td>\n",
       "      <td>327</td>\n",
       "      <td>5</td>\n",
       "      <td>235.3</td>\n",
       "      <td>18.1</td>\n",
       "      <td>281</td>\n",
       "      <td>55.0</td>\n",
       "      <td>1573</td>\n",
       "      <td>13</td>\n",
       "      <td>298</td>\n",
       "      <td>5.278523</td>\n",
       "    </tr>\n",
       "  </tbody>\n",
       "</table>\n",
       "</div>"
      ],
      "text/plain": [
       "           player Team  Games  Att_Rush  Yards_Rush  TD_Rush  Target  RecNum  \\\n",
       "0  DeMarco Murray  DAL     16       393        1845       13      64      57   \n",
       "1    Le'Veon Bell  PIT     16       290        1361        8     105      83   \n",
       "2  Marshawn Lynch  SEA     16       280        1306       13      48      37   \n",
       "3      Matt Forte  CHI     16       266        1038        6     130     102   \n",
       "4    Arian Foster  HOU     13       260        1246        8      59      38   \n",
       "\n",
       "   Yards_Rec  TD_Rec   FPTs  FPTs/G  rank  total_points  Total_Yards  \\\n",
       "0        416       0  304.1    19.0    96         140.1         2261   \n",
       "1        854       3  287.5    18.0   198          87.2         2215   \n",
       "2        367       4  269.3    16.8   239          69.7         1673   \n",
       "3        808       4  244.6    15.3    50         170.7         1846   \n",
       "4        327       5  235.3    18.1   281          55.0         1573   \n",
       "\n",
       "   Total_TD  Att  Total_Yards_perComp  \n",
       "0        13  450             5.024444  \n",
       "1        11  373             5.938338  \n",
       "2        17  317             5.277603  \n",
       "3        10  368             5.016304  \n",
       "4        13  298             5.278523  "
      ]
     },
     "execution_count": 753,
     "metadata": {},
     "output_type": "execute_result"
    }
   ],
   "source": [
    "dfRB2014.rename(columns={'Player': 'player'}, inplace=True)\n",
    "resultRB = pd.merge(dfRB2014, somethingNew, on='player')\n",
    "resultRB = resultRB.convert_objects(convert_numeric=True)\n",
    "resultRB['Total_Yards'] = resultRB['Yards_Rush'] + resultRB['Yards_Rec']\n",
    "resultRB['Total_TD'] = resultRB['TD_Rush'] + resultRB['TD_Rec']\n",
    "resultRB['Att'] = resultRB['Att_Rush'] + resultRB['RecNum']\n",
    "resultRB['Total_Yards_perComp'] = resultRB['Total_Yards'] / resultRB['Att']\n",
    "resultRB.drop(['team','position','games_played','avg_points'],inplace=True,axis=1)\n",
    "resultRB.head()"
   ]
  },
  {
   "cell_type": "code",
   "execution_count": 754,
   "metadata": {
    "collapsed": false
   },
   "outputs": [
    {
     "name": "stderr",
     "output_type": "stream",
     "text": [
      "/Users/SangYeob/anaconda/lib/python2.7/site-packages/ipykernel/__main__.py:7: SettingWithCopyWarning: \n",
      "A value is trying to be set on a copy of a slice from a DataFrame\n",
      "\n",
      "See the caveats in the documentation: http://pandas.pydata.org/pandas-docs/stable/indexing.html#indexing-view-versus-copy\n",
      "/Users/SangYeob/anaconda/lib/python2.7/site-packages/ipykernel/__main__.py:10: SettingWithCopyWarning: \n",
      "A value is trying to be set on a copy of a slice from a DataFrame\n",
      "\n",
      "See the caveats in the documentation: http://pandas.pydata.org/pandas-docs/stable/indexing.html#indexing-view-versus-copy\n"
     ]
    },
    {
     "data": {
      "image/png": "[encoded data removed]",
      "text/plain": [
       "<matplotlib.figure.Figure at 0x119f7da10>"
      ]
     },
     "metadata": {},
     "output_type": "display_data"
    },
    {
     "name": "stderr",
     "output_type": "stream",
     "text": [
      "/Users/SangYeob/anaconda/lib/python2.7/site-packages/sklearn/linear_model/coordinate_descent.py:1051: DataConversionWarning: A column-vector y was passed when a 1d array was expected. Please change the shape of y to (n_samples, ), for example using ravel().\n",
      "  y = column_or_1d(y, warn=True)\n"
     ]
    },
    {
     "name": "stdout",
     "output_type": "stream",
     "text": [
      "Mean Square Error: 128.04\n",
      "R2 value: -0.500779\n"
     ]
    },
    {
     "data": {
      "image/png": "[encoded data removed]",
      "text/plain": [
       "<matplotlib.figure.Figure at 0x117f411d0>"
      ]
     },
     "metadata": {},
     "output_type": "display_data"
    },
    {
     "name": "stdout",
     "output_type": "stream",
     "text": [
      "Mean Square Error: 1011.54\n",
      "R2 value: -0.500746\n"
     ]
    }
   ],
   "source": [
    "X_RB = resultRB[['Total_Yards','Total_TD','Total_Yards_perComp']]\n",
    "y_RB = resultRB[['FPTs']]\n",
    "\n",
    "#X_RB = X_RB.convert_objects(convert_numeric=True)\n",
    "#y_RB = y_RB.convert_objects(convert_numeric=True)\n",
    "\n",
    "X_RB.replace([np.inf, -np.inf], np.nan,inplace=True)\n",
    "y_RB = y_RB.drop(y_RB.index[[-1]])\n",
    "y_RB = y_RB.drop(y_RB.index[[-1]])\n",
    "X_RB.dropna(inplace=True)\n",
    "\n",
    "#Building a model using the train sets and test sets\n",
    "lm = linear_model.LinearRegression()\n",
    "\n",
    "model = lm.fit(X_RB, y_RB)\n",
    "predictions = lm.predict(X_RB)\n",
    "target = resultRB[['total_points']].astype(float)\n",
    "target = target.drop(target.index[[-1]])\n",
    "target = target.drop(target.index[[-1]])\n",
    "\n",
    "## The line / model\n",
    "plt.scatter(target,predictions)\n",
    "plt.xlabel(\"True Values\")\n",
    "plt.ylabel(\"Predictions\")\n",
    "plt.show()\n",
    "#print \"Score:\", model.score(X_QB, target)  \n",
    "print(\"Mean Square Error: %.2f\" % np.mean(((predictions - target) ** 2)/len(X_QB)))\n",
    "print \"R2 value: %f\" % r2_score(predictions, target) \n",
    "\n",
    "ll = linear_model.LassoCV(alphas=[0.01, 1, 100]).fit(X_RB,y_RB)\n",
    "\n",
    "predictions1 = ll.predict(X_RB)\n",
    "\n",
    "sns.regplot(target,predictions1)\n",
    "plt.xlabel(\"True Values\")\n",
    "plt.ylabel(\"Predictions\")\n",
    "plt.show()\n",
    "\n",
    "print(\"Mean Square Error: %.2f\" % np.mean((([predictions1] - target) ** 2)/len(predictions1)))\n",
    "print \"R2 value: %f\" % r2_score(predictions1, target) \n",
    "#use the 2015 results and try it on the model\n",
    "\n",
    "#use a diff method to model it"
   ]
  },
  {
   "cell_type": "code",
   "execution_count": 755,
   "metadata": {
    "collapsed": false
   },
   "outputs": [
    {
     "name": "stdout",
     "output_type": "stream",
     "text": [
      "Best score: 52.7482413171\n",
      "Best depth: 7\n"
     ]
    },
    {
     "data": {
      "image/png": "[encoded data removed]",
      "text/plain": [
       "<matplotlib.figure.Figure at 0x12b3b2b10>"
      ]
     },
     "metadata": {},
     "output_type": "display_data"
    },
    {
     "data": {
      "image/png": "[encoded data removed]",
      "text/plain": [
       "<matplotlib.figure.Figure at 0x11e767350>"
      ]
     },
     "metadata": {},
     "output_type": "display_data"
    },
    {
     "name": "stdout",
     "output_type": "stream",
     "text": [
      "R2 value: -1.341796\n"
     ]
    }
   ],
   "source": [
    "all_scores = []\n",
    "best_score = -1\n",
    "best_depth = 0\n",
    "for i in range(1, 9):\n",
    "    treereg = DecisionTreeRegressor(max_depth=i)\n",
    "    scores = cross_val_score(treereg, X_RB, y_RB, cv=3, n_jobs = -1, scoring='mean_squared_error')\n",
    "    current_score = np.mean(np.sqrt(-scores))\n",
    "    # If the score mean is better than the current best, or best is the default (-1), then update!\n",
    "    if current_score < best_score or best_score == -1:\n",
    "        best_score = current_score\n",
    "        best_depth = i\n",
    "    # store to plot anyway!\n",
    "    all_scores.append(current_score)\n",
    "    \n",
    "print \"Best score: %s\" % best_score\n",
    "print \"Best depth: %s\" % best_depth\n",
    "\n",
    "# now actually fit the model\n",
    "treereg = DecisionTreeRegressor(max_depth=best_depth)\n",
    "#X_train, X_test, y_train, y_test = train_test_split(X_QB, y_QB, test_size=0.3)\n",
    "treereg.fit(X_RB, y_RB)\n",
    "\n",
    "plt.figure()\n",
    "plt.plot(range(1, 9), all_scores)\n",
    "plt.xlabel('x=max tree depth')\n",
    "plt.show()\n",
    "\n",
    "preds = treereg.predict(X_QB)\n",
    "\n",
    "sns.regplot(target,preds[:49])\n",
    "plt.xlabel(\"True Values\")\n",
    "plt.ylabel(\"Predictions\")\n",
    "plt.show()\n",
    "print \"R2 value: %f\" % r2_score(preds[:49], target) \n"
   ]
  },
  {
   "cell_type": "code",
   "execution_count": 756,
   "metadata": {
    "collapsed": false
   },
   "outputs": [
    {
     "name": "stderr",
     "output_type": "stream",
     "text": [
      "/Users/SangYeob/anaconda/lib/python2.7/site-packages/sklearn/cross_validation.py:1531: DataConversionWarning: A column-vector y was passed when a 1d array was expected. Please change the shape of y to (n_samples,), for example using ravel().\n",
      "  estimator.fit(X_train, y_train, **fit_params)\n",
      "/Users/SangYeob/anaconda/lib/python2.7/site-packages/sklearn/cross_validation.py:1531: DataConversionWarning: A column-vector y was passed when a 1d array was expected. Please change the shape of y to (n_samples,), for example using ravel().\n",
      "  estimator.fit(X_train, y_train, **fit_params)\n",
      "/Users/SangYeob/anaconda/lib/python2.7/site-packages/sklearn/cross_validation.py:1531: DataConversionWarning: A column-vector y was passed when a 1d array was expected. Please change the shape of y to (n_samples,), for example using ravel().\n",
      "  estimator.fit(X_train, y_train, **fit_params)\n",
      "[Parallel(n_jobs=-1)]: Done   3 out of   3 | elapsed:    0.2s finished\n",
      "/Users/SangYeob/anaconda/lib/python2.7/site-packages/ipykernel/__main__.py:3: DataConversionWarning: A column-vector y was passed when a 1d array was expected. Please change the shape of y to (n_samples,), for example using ravel().\n",
      "  app.launch_new_instance()\n"
     ]
    },
    {
     "data": {
      "image/png": "[encoded data removed]",
      "text/plain": [
       "<matplotlib.figure.Figure at 0x125370610>"
      ]
     },
     "metadata": {},
     "output_type": "display_data"
    },
    {
     "name": "stdout",
     "output_type": "stream",
     "text": [
      "R2 value: -0.501478\n"
     ]
    }
   ],
   "source": [
    "rf = RandomForestRegressor()\n",
    "rfScore = cross_val_score(rf,X_RB,y_RB,cv=3,verbose=True,n_jobs=-1)\n",
    "rf.fit(X_RB, y_RB)\n",
    "\n",
    "preds_rf = rf.predict(X_RB)\n",
    "\n",
    "sns.regplot(target,preds_rf)\n",
    "plt.xlabel(\"True Values\")\n",
    "plt.ylabel(\"Predictions\")\n",
    "plt.show()\n",
    "print \"R2 value: %f\" % r2_score(preds_rf, target) "
   ]
  },
  {
   "cell_type": "markdown",
   "metadata": {},
   "source": [
    "The R-squared values for all the models that I have tested on the quarter backs and running backs tell me that the stats from previous years cannot predict better than the expert's preseason predictions. There are a lot more factors than purely stats that contribute to the fantasy points at the end of the season. To make a better model, I need to investigate further into how experts are coming up with their predictions, and include other features such as team ranking injuries,and other stats."
   ]
  },
  {
   "cell_type": "markdown",
   "metadata": {},
   "source": [
    "Since my own models were not successful, I will use the expert predictions to cluster players into tiers to recommend who you should draft."
   ]
  },
  {
   "cell_type": "code",
   "execution_count": 757,
   "metadata": {
    "collapsed": false
   },
   "outputs": [
    {
     "data": {
      "text/html": [
       "<div>\n",
       "<table border=\"1\" class=\"dataframe\">\n",
       "  <thead>\n",
       "    <tr style=\"text-align: right;\">\n",
       "      <th></th>\n",
       "      <th>player</th>\n",
       "      <th>team</th>\n",
       "      <th>postion</th>\n",
       "      <th>fantasy_points</th>\n",
       "    </tr>\n",
       "  </thead>\n",
       "  <tbody>\n",
       "    <tr>\n",
       "      <th>0</th>\n",
       "      <td>Andrew Luck</td>\n",
       "      <td>IND</td>\n",
       "      <td>QB</td>\n",
       "      <td>329.6</td>\n",
       "    </tr>\n",
       "    <tr>\n",
       "      <th>1</th>\n",
       "      <td>Aaron Rodgers</td>\n",
       "      <td>GB</td>\n",
       "      <td>QB</td>\n",
       "      <td>325.2</td>\n",
       "    </tr>\n",
       "    <tr>\n",
       "      <th>2</th>\n",
       "      <td>Russell Wilson</td>\n",
       "      <td>SEA</td>\n",
       "      <td>QB</td>\n",
       "      <td>303.2</td>\n",
       "    </tr>\n",
       "    <tr>\n",
       "      <th>3</th>\n",
       "      <td>Peyton Manning</td>\n",
       "      <td>FA</td>\n",
       "      <td>QB</td>\n",
       "      <td>298.0</td>\n",
       "    </tr>\n",
       "    <tr>\n",
       "      <th>4</th>\n",
       "      <td>Drew Brees</td>\n",
       "      <td>NO</td>\n",
       "      <td>QB</td>\n",
       "      <td>295.6</td>\n",
       "    </tr>\n",
       "    <tr>\n",
       "      <th>5</th>\n",
       "      <td>Tom Brady</td>\n",
       "      <td>NE</td>\n",
       "      <td>QB</td>\n",
       "      <td>281.2</td>\n",
       "    </tr>\n",
       "    <tr>\n",
       "      <th>6</th>\n",
       "      <td>Cam Newton</td>\n",
       "      <td>CAR</td>\n",
       "      <td>QB</td>\n",
       "      <td>278.9</td>\n",
       "    </tr>\n",
       "    <tr>\n",
       "      <th>7</th>\n",
       "      <td>Matt Ryan</td>\n",
       "      <td>ATL</td>\n",
       "      <td>QB</td>\n",
       "      <td>278.8</td>\n",
       "    </tr>\n",
       "    <tr>\n",
       "      <th>8</th>\n",
       "      <td>Tony Romo</td>\n",
       "      <td>DAL</td>\n",
       "      <td>QB</td>\n",
       "      <td>272.9</td>\n",
       "    </tr>\n",
       "    <tr>\n",
       "      <th>9</th>\n",
       "      <td>Matthew Stafford</td>\n",
       "      <td>DET</td>\n",
       "      <td>QB</td>\n",
       "      <td>271.3</td>\n",
       "    </tr>\n",
       "    <tr>\n",
       "      <th>10</th>\n",
       "      <td>Ben Roethlisberger</td>\n",
       "      <td>PIT</td>\n",
       "      <td>QB</td>\n",
       "      <td>270.3</td>\n",
       "    </tr>\n",
       "    <tr>\n",
       "      <th>11</th>\n",
       "      <td>Ryan Tannehill</td>\n",
       "      <td>MIA</td>\n",
       "      <td>QB</td>\n",
       "      <td>262.7</td>\n",
       "    </tr>\n",
       "    <tr>\n",
       "      <th>12</th>\n",
       "      <td>Philip Rivers</td>\n",
       "      <td>SD</td>\n",
       "      <td>QB</td>\n",
       "      <td>258.8</td>\n",
       "    </tr>\n",
       "    <tr>\n",
       "      <th>13</th>\n",
       "      <td>Eli Manning</td>\n",
       "      <td>NYG</td>\n",
       "      <td>QB</td>\n",
       "      <td>254.0</td>\n",
       "    </tr>\n",
       "    <tr>\n",
       "      <th>14</th>\n",
       "      <td>Colin Kaepernick</td>\n",
       "      <td>SF</td>\n",
       "      <td>QB</td>\n",
       "      <td>252.2</td>\n",
       "    </tr>\n",
       "    <tr>\n",
       "      <th>15</th>\n",
       "      <td>Jay Cutler</td>\n",
       "      <td>CHI</td>\n",
       "      <td>QB</td>\n",
       "      <td>249.1</td>\n",
       "    </tr>\n",
       "    <tr>\n",
       "      <th>16</th>\n",
       "      <td>Joe Flacco</td>\n",
       "      <td>BAL</td>\n",
       "      <td>QB</td>\n",
       "      <td>244.5</td>\n",
       "    </tr>\n",
       "    <tr>\n",
       "      <th>17</th>\n",
       "      <td>Marshawn Lynch</td>\n",
       "      <td>FA</td>\n",
       "      <td>RB</td>\n",
       "      <td>238.6</td>\n",
       "    </tr>\n",
       "    <tr>\n",
       "      <th>18</th>\n",
       "      <td>Jamaal Charles</td>\n",
       "      <td>KC</td>\n",
       "      <td>RB</td>\n",
       "      <td>237.6</td>\n",
       "    </tr>\n",
       "    <tr>\n",
       "      <th>19</th>\n",
       "      <td>Teddy Bridgewater</td>\n",
       "      <td>MIN</td>\n",
       "      <td>QB</td>\n",
       "      <td>236.6</td>\n",
       "    </tr>\n",
       "  </tbody>\n",
       "</table>\n",
       "</div>"
      ],
      "text/plain": [
       "                player team postion  fantasy_points\n",
       "0          Andrew Luck  IND      QB           329.6\n",
       "1        Aaron Rodgers   GB      QB           325.2\n",
       "2       Russell Wilson  SEA      QB           303.2\n",
       "3       Peyton Manning   FA      QB           298.0\n",
       "4           Drew Brees   NO      QB           295.6\n",
       "5            Tom Brady   NE      QB           281.2\n",
       "6           Cam Newton  CAR      QB           278.9\n",
       "7            Matt Ryan  ATL      QB           278.8\n",
       "8            Tony Romo  DAL      QB           272.9\n",
       "9     Matthew Stafford  DET      QB           271.3\n",
       "10  Ben Roethlisberger  PIT      QB           270.3\n",
       "11      Ryan Tannehill  MIA      QB           262.7\n",
       "12       Philip Rivers   SD      QB           258.8\n",
       "13         Eli Manning  NYG      QB           254.0\n",
       "14    Colin Kaepernick   SF      QB           252.2\n",
       "15          Jay Cutler  CHI      QB           249.1\n",
       "16          Joe Flacco  BAL      QB           244.5\n",
       "17      Marshawn Lynch   FA      RB           238.6\n",
       "18      Jamaal Charles   KC      RB           237.6\n",
       "19   Teddy Bridgewater  MIN      QB           236.6"
      ]
     },
     "execution_count": 757,
     "metadata": {},
     "output_type": "execute_result"
    }
   ],
   "source": [
    "finalFrame['fantasy_points'] = finalFrame['fantasy_points'].astype(float)\n",
    "finalFrame.sort_values(by='fantasy_points',axis=0,ascending=False,inplace=True)\n",
    "finalFrame.reset_index(inplace=True,drop=True)\n",
    "#finalFrame.drop(['index'],axis=1,inplace=True)\n",
    "finalFrame.head(20)\n"
   ]
  },
  {
   "cell_type": "code",
   "execution_count": 758,
   "metadata": {
    "collapsed": false
   },
   "outputs": [
    {
     "name": "stdout",
     "output_type": "stream",
     "text": [
      "Estimated number of clusters: 4\n"
     ]
    },
    {
     "data": {
      "image/png": "[encoded data removed]",
      "text/plain": [
       "<matplotlib.figure.Figure at 0x119f057d0>"
      ]
     },
     "metadata": {},
     "output_type": "display_data"
    },
    {
     "name": "stdout",
     "output_type": "stream",
     "text": [
      "There are sufficient number of clusters, but not all data points are included. Therefore, I must use a different\n",
      "clustering algorithm.\n"
     ]
    }
   ],
   "source": [
    "from sklearn.cluster import DBSCAN\n",
    "from sklearn.preprocessing import StandardScaler\n",
    "from sklearn import metrics\n",
    "\n",
    "finalFrame['Rank'] = finalFrame.index + 1\n",
    "\n",
    "data = finalFrame[['Rank','fantasy_points']]\n",
    "data = data.as_matrix().astype(\"float32\", copy = False)\n",
    "\n",
    "stscaler = StandardScaler().fit(data)\n",
    "data = stscaler.transform(data)\n",
    "\n",
    "dataDF = pd.DataFrame(data)\n",
    "plt.scatter(dataDF[1],dataDF[0])\n",
    "\n",
    "dbsc = DBSCAN(eps = .1, min_samples =1).fit(data)\n",
    "labels = dbsc.labels_\n",
    "core_samples = np.zeros_like(labels, dtype = bool)\n",
    "core_samples[dbsc.core_sample_indices_] = True\n",
    "n_clusters_ = len(set(labels)) - (1 if -1 in labels else 0)\n",
    "\n",
    "print('Estimated number of clusters: %d' % n_clusters_)\n",
    "clusters = [data[labels == i] for i in xrange(n_clusters_)]\n",
    "\n",
    "unique_labels = set(labels)\n",
    "colors = plt.cm.Spectral(np.linspace(0, 1, len(unique_labels)))\n",
    "for k, col in zip(unique_labels, colors):\n",
    "    if k == -1:\n",
    "        # Black used for noise.\n",
    "        col = 'k'\n",
    "\n",
    "    class_member_mask = (labels == k)\n",
    "\n",
    "    xy = data[class_member_mask & core_samples]\n",
    "    plt.plot(xy[:, 0], xy[:, 1], 'o', markerfacecolor=col,\n",
    "             markeredgecolor='k', markersize=14)\n",
    "\n",
    "    xy = data[class_member_mask & ~core_samples]\n",
    "    plt.plot(xy[:, 0], xy[:, 1], 'o', markerfacecolor=col,\n",
    "             markeredgecolor='k', markersize=6)\n",
    "\n",
    "plt.title('Estimated number of clusters: %d' % n_clusters_)\n",
    "plt.show()\n",
    "\n",
    "print \"DBSCAN does not give a sufficient number of clusters since the points are so close to each other.\""
   ]
  },
  {
   "cell_type": "code",
   "execution_count": 759,
   "metadata": {
    "collapsed": false
   },
   "outputs": [
    {
     "data": {
      "text/html": [
       "<div>\n",
       "<table border=\"1\" class=\"dataframe\">\n",
       "  <thead>\n",
       "    <tr style=\"text-align: right;\">\n",
       "      <th></th>\n",
       "      <th>player</th>\n",
       "      <th>team</th>\n",
       "      <th>postion</th>\n",
       "      <th>fantasy_points</th>\n",
       "      <th>Rank</th>\n",
       "    </tr>\n",
       "  </thead>\n",
       "  <tbody>\n",
       "    <tr>\n",
       "      <th>0</th>\n",
       "      <td>Andrew Luck</td>\n",
       "      <td>IND</td>\n",
       "      <td>QB</td>\n",
       "      <td>329.6</td>\n",
       "      <td>1</td>\n",
       "    </tr>\n",
       "    <tr>\n",
       "      <th>1</th>\n",
       "      <td>Aaron Rodgers</td>\n",
       "      <td>GB</td>\n",
       "      <td>QB</td>\n",
       "      <td>325.2</td>\n",
       "      <td>2</td>\n",
       "    </tr>\n",
       "    <tr>\n",
       "      <th>2</th>\n",
       "      <td>Russell Wilson</td>\n",
       "      <td>SEA</td>\n",
       "      <td>QB</td>\n",
       "      <td>303.2</td>\n",
       "      <td>3</td>\n",
       "    </tr>\n",
       "    <tr>\n",
       "      <th>3</th>\n",
       "      <td>Peyton Manning</td>\n",
       "      <td>FA</td>\n",
       "      <td>QB</td>\n",
       "      <td>298.0</td>\n",
       "      <td>4</td>\n",
       "    </tr>\n",
       "    <tr>\n",
       "      <th>4</th>\n",
       "      <td>Drew Brees</td>\n",
       "      <td>NO</td>\n",
       "      <td>QB</td>\n",
       "      <td>295.6</td>\n",
       "      <td>5</td>\n",
       "    </tr>\n",
       "  </tbody>\n",
       "</table>\n",
       "</div>"
      ],
      "text/plain": [
       "           player team postion  fantasy_points  Rank\n",
       "0     Andrew Luck  IND      QB           329.6     1\n",
       "1   Aaron Rodgers   GB      QB           325.2     2\n",
       "2  Russell Wilson  SEA      QB           303.2     3\n",
       "3  Peyton Manning   FA      QB           298.0     4\n",
       "4      Drew Brees   NO      QB           295.6     5"
      ]
     },
     "execution_count": 759,
     "metadata": {},
     "output_type": "execute_result"
    }
   ],
   "source": [
    "finalFrame.head()"
   ]
  },
  {
   "cell_type": "code",
   "execution_count": 820,
   "metadata": {
    "collapsed": false
   },
   "outputs": [],
   "source": [
    "from sklearn.cluster import KMeans\n",
    "import numpy as np\n",
    "kmeansDF = finalFrame.iloc[:,3:]\n",
    "kmean = KMeans(n_clusters=100, random_state=10) \n",
    "\n",
    "kmean.fit(kmeansDF)\n",
    "\n",
    "clusters = {}\n",
    "n = 0\n",
    "for item in kmean.labels_:\n",
    "    if item in clusters:\n",
    "        clusters[item].append(finalFrame.iloc[n,:])\n",
    "    else:\n",
    "        clusters[item] = [finalFrame.iloc[n,:]]\n",
    "    n +=1\n",
    "\n",
    "recomList = []\n",
    "clusterList = []\n",
    "for item in clusters:\n",
    "    #print \"Cluster \", item\n",
    "    for i in clusters[item]:\n",
    "        clusterList.append(item)\n",
    "        recomList.append(i)\n",
    "\n",
    "recomDF = pd.DataFrame(recomList)\n",
    "recomDF['cluster'] = clusterList\n",
    "recomDF['fantasy_points'] = recomDF['fantasy_points'].astype(float)\n",
    "#print recomDF\n",
    "#recomDF = recomDF.groupby(['cluster','player']).mean()\n",
    "#recomDF.sort(['fantasy_points'], ascending=False, inplace=True)\n",
    "fantasyP = recomDF['fantasy_points'].groupby(recomDF['cluster']).mean()\n",
    "#print len(fantasyP)\n",
    "\n",
    "mydict = {}\n",
    "for x in range(len(recomDF)):\n",
    "    currentcluster = recomDF.iloc[x,5]\n",
    "    currentvalue = recomDF.iloc[x,[0,2]]\n",
    "    mydict.setdefault(currentcluster, [])\n",
    "    mydict[currentcluster].append(currentvalue)\n",
    "\n",
    "dictDF = pd.DataFrame([[key,value] for key,value in mydict.items()],columns=[\"cluster\",\"player\"])\n",
    "dictDF['fantasy_points'] = fantasyP\n",
    "\n",
    "qbList = []\n",
    "rbList = []\n",
    "teList = []\n",
    "wrList = []\n",
    "kList = []\n",
    "for i in dictDF.player:\n",
    "    qbList.append([y[0] for y in i if y[1] == 'QB'])\n",
    "    rbList.append([y[0] for y in i if y[1] == 'RB'])\n",
    "    wrList.append([y[0] for y in i if y[1] == 'WR'])\n",
    "    teList.append([y[0] for y in i if y[1] == 'TE'])\n",
    "    kList.append([y[0] for y in i if y[1] == 'K'])"
   ]
  },
  {
   "cell_type": "code",
   "execution_count": 828,
   "metadata": {
    "collapsed": false
   },
   "outputs": [
    {
     "name": "stdout",
     "output_type": "stream",
     "text": [
      "    cluster                                             player  fantasy_points\n",
      "19       19  [[Melvin Gordon, RB], [Arian Foster, RB], [Lat...      327.400000\n",
      "29       29                              [[Bishop Sankey, RB]]      298.933333\n",
      "49       49  [[Jared Cook, TE], [Charles Clay, TE], [Lorenz...      278.900000\n",
      "8         8  [[Larry Donnell, TE], [Denard Robinson, RB], [...      278.800000\n",
      "26       26  [[Josh Robinson, RB], [Damien Williams, RB], [...      253.100000\n",
      "43       43  [[Anthony Fasano, TE], [Bobby Rainey, RB], [Jo...      246.800000\n",
      "35       35  [[Scott Chandler, TE], [Virgil Green, TE], [Rh...      230.700000\n",
      "1         1  [[Ryan Succop, K], [Delanie Walker, TE], [Dway...      230.500000\n",
      "48       48            [[Tyrod Taylor, QB], [Jeremy Hill, RB]]      220.025000\n",
      "16       16  [[Johnny Manziel, QB], [Craig Stevens, TE], [M...      206.466667\n",
      "32       32  [[Dan Carpenter, K], [Brandon McManus, K], [Ch...      204.450000\n",
      "47       47  [[Ryan Mallett, QB], [David Johnson, RB], [Jos...      196.350000\n",
      "34       34  [[Ameer Abdullah, RB], [Mason Crosby, K], [Tev...      185.500000\n",
      "4         4                               [[James Starks, RB]]      167.100000\n",
      "31       31  [[Heath Miller, TE], [Julius Thomas, TE], [Kni...      154.400000\n",
      "17       17  [[Giovani Bernard, RB], [Greg Olsen, TE], [Tod...      146.350000\n",
      "36       36                              [[Mychal Rivera, TE]]      141.625000\n",
      "44       44  [[Darren McFadden, RB], [Danny Woodhead, RB], ...      130.400000\n",
      "12       12  [[Trey Burton, TE], [Tyler Kroft, TE], [Demetr...      124.060000\n",
      "23       23                                [[Jordan Reed, TE]]      120.220000\n",
      "3         3  [[Alex Smith, QB], [Cam Newton, QB], [C.J. And...      110.800000\n",
      "33       33  [[Jimmy Clausen, QB], [Chase Daniel, QB], [Cas...       99.200000\n",
      "11       11                             [[Jordan Cameron, TE]]       92.125000\n",
      "28       28  [[Terrance West, RB], [Dexter McCluster, RB], ...       86.550000\n",
      "7         7  [[Andre Ellington, RB], [Chris Ivory, RB], [St...       79.800000\n",
      "42       42  [[Zach Mettenberger, QB], [Chris Thompson, RB]...       74.866667\n",
      "25       25  [[Carson Palmer, QB], [Eddie Lacy, RB], [Alex ...       73.233333\n",
      "20       20  [[Matt Ryan, QB], [Eli Manning, QB], [Colin Ka...       68.600000\n",
      "27       27  [[Brian Hoyer, QB], [Ryan Fitzpatrick, QB], [J...       63.100000\n",
      "37       37  [[Blake Bortles, QB], [Dez Bryant, WR], [Demar...       61.100000\n",
      "15       15  [[Cameron Artis-Payne, RB], [Branden Oliver, R...       57.375000\n",
      "0         0  [[Mark Sanchez, QB], [LaMichael James, RB], [E...       48.975000\n",
      "45       45  [[Antonio Andrews, RB], [Gavin Escobar, TE], [...       45.000000\n",
      "24       24  [[Brandon Myers, TE], [Zac Stacy, RB], [Kellen...       42.300000\n",
      "39       39  [[Frank Gore, RB], [LeGarrette Blount, RB], [A...       36.140000\n",
      "14       14  [[Maxx Williams, TE], [Jacob Tamme, TE], [Fred...       33.585714\n",
      "38       38  [[Orleans Darkwa, RB], [Rex Burkhead, RB], [Ti...       31.087500\n",
      "5         5  [[Antone Smith, RB], [Sean Mannion, QB], [B.J....       30.014286\n",
      "46       46  [[Zach Ertz, TE], [Coby Fleener, TE], [Antonio...       27.433333\n",
      "18       18  [[Josh Brown, K], [Josh Lambo, K], [Phil Dawso...       24.628571\n",
      "9         9         [[LeSean McCoy, RB], [Justin Forsett, RB]]       22.580000\n",
      "30       30                                [[James White, RB]]       20.557143\n",
      "10       10  [[Sebastian Janikowski, K], [Robbie Gould, K],...       17.540000\n",
      "40       40                                [[Alfred Blue, RB]]       14.700000\n",
      "21       21  [[Nick Foles, QB], [Derek Carr, QB], [DeMarco ...       11.725000\n",
      "2         2  [[Andre Williams, RB], [Roy Helu, RB], [Matt J...       10.125000\n",
      "22       22                               [[Vernon Davis, TE]]        6.360000\n",
      "13       13  [[Andrew Luck, QB], [Aaron Rodgers, QB], [Russ...        4.600000\n",
      "41       41  [[Christine Michael, RB], [Benny Cunningham, R...        2.500000\n",
      "6         6  [[Lance Dunbar, RB], [Dion Lewis, RB], [Javori...        0.000000\n",
      "I have no idea why this doesn't work. The exact same code worked an hour ago.\n"
     ]
    }
   ],
   "source": [
    "dictDF.sort_values(by='fantasy_points',axis=0,ascending=False,inplace=True)\n",
    "print dictDF\n",
    "print \"I have no idea why this doesn't work. The exact same code worked an hour ago.\""
   ]
  },
  {
   "cell_type": "markdown",
   "metadata": {},
   "source": [
    "I was too tired by this point, but the data frame aboves gives recommendations for each rounds of fantasy draft. If a player runs out in the first rank, then you should pick players from the next rank. If you look at the players, there seems to be some anomalies in draft recommendations. This is possibly due to the way the data is clustered. K means is best for hyper spherical data whereas the data that I feed into K-means clustering algorithm is not hyper-spherical. I need to look into a different means of clustering to best group the players. Then, I will compare the draft recommendations to the actual results from the 2015 season."
   ]
  },
  {
   "cell_type": "code",
   "execution_count": 823,
   "metadata": {
    "collapsed": false
   },
   "outputs": [
    {
     "data": {
      "image/png": "[encoded data removed]",
      "text/plain": [
       "<matplotlib.figure.Figure at 0x119f202d0>"
      ]
     },
     "metadata": {},
     "output_type": "display_data"
    }
   ],
   "source": [
    "from sklearn import mixture\n",
    "from pylab import *\n",
    "\n",
    "samples = finalFrame.iloc[:,3:]\n",
    "gmix = mixture.GMM(n_components=50, covariance_type='full')\n",
    "gmix.fit(samples)\n",
    "#print gmix.means_\n",
    "tiers = gmix.predict(samples)\n",
    "#colors = ['r' if i==0 else 'g' for i in gmix.predict(samples)]\n",
    "ax = plt.gca()\n",
    "\n",
    "from matplotlib import cm\n",
    "from numpy import linspace\n",
    "\n",
    "start = 0.0\n",
    "stop = 1.0\n",
    "number_of_lines= 1000\n",
    "cm_subsection = linspace(start, stop, number_of_lines) \n",
    "\n",
    "colors = [ cm.jet(x) for x in cm_subsection ]\n",
    "ax.scatter(samples.iloc[:,0], samples.iloc[:,1], c=colors, alpha=0.8)\n",
    "plt.show()\n"
   ]
  },
  {
   "cell_type": "code",
   "execution_count": 829,
   "metadata": {
    "collapsed": false
   },
   "outputs": [
    {
     "name": "stdout",
     "output_type": "stream",
     "text": [
      "    Tier                                             player  fantasy_points\n",
      "19    19  [[Andrew Luck, QB], [Aaron Rodgers, QB], [Russ...      305.466667\n",
      "25    25  [[Matt Ryan, QB], [Tony Romo, QB], [Matthew St...      257.566667\n",
      "7      7  [[Teddy Bridgewater, QB], [Sam Bradford, QB], ...      227.370000\n",
      "46    48  [[Cam Newton, QB], [Alex Smith, QB], [C.J. And...      213.480000\n",
      "21    21  [[Matt Forte, RB], [Antonio Brown, WR], [Nick ...      209.240000\n",
      "29    29  [[Demaryius Thomas, WR], [Blake Bortles, QB], ...      206.366667\n",
      "20    20            [[Tyrod Taylor, QB], [Jeremy Hill, RB]]      196.350000\n",
      "3      3            [[LeSean McCoy, RB], [Carlos Hyde, RB]]      173.100000\n",
      "34    34  [[Josh McCown, QB], [Lamar Miller, RB], [Mark ...      170.242857\n",
      "37    38  [[Frank Gore, RB], [LeGarrette Blount, RB], [A...      153.080000\n",
      "14    14                           [[Ryan Fitzpatrick, QB]]      144.800000\n",
      "39    41  [[Andre Ellington, RB], [Chris Ivory, RB], [St...      141.625000\n",
      "17    17  [[Brian Hoyer, QB], [Rashad Jennings, RB], [Jo...      137.233333\n",
      "5      5                              [[Adam Vinatieri, K]]      129.600000\n",
      "26    26  [[Mason Crosby, K], [Tevin Coleman, RB], [Amee...      121.081818\n",
      "45    47  [[Steven Hauschka, K], [Giovani Bernard, RB], ...      114.750000\n",
      "28    28  [[Zach Hocker, K], [Kai Forbath, K], [Robbie G...      103.166667\n",
      "30    30    [[Ryan Mathews, RB], [Sebastian Janikowski, K]]      101.450000\n",
      "0      0                                 [[Jason Myers, K]]       97.600000\n",
      "47    49                              [[Bishop Sankey, RB]]       92.500000\n",
      "41    43                             [[Jordan Cameron, TE]]       89.200000\n",
      "9      9                                [[Alfred Blue, RB]]       88.900000\n",
      "44    46  [[Tre Mason, RB], [Kyle Brindza, K], [Shane Ve...       88.536364\n",
      "15    15  [[Zach Ertz, TE], [Coby Fleener, TE], [Darren ...       85.766667\n",
      "2      2        [[Antonio Gates, TE], [Danny Woodhead, RB]]       83.500000\n",
      "22    22  [[Darren Sproles, RB], [Reggie Bush, RB], [Owe...       81.071429\n",
      "18    18                                [[Jordan Reed, TE]]       79.400000\n",
      "27    27                               [[Vernon Davis, TE]]       74.200000\n",
      "43    45                             [[Ronnie Hillman, RB]]       70.200000\n",
      "16    16                             [[Andre Williams, RB]]       68.600000\n",
      "11    11  [[Larry Donnell, TE], [Denard Robinson, RB], [...       68.333333\n",
      "31    31  [[Kyle Rudolph, TE], [Jared Cook, TE], [Charle...       66.835714\n",
      "6      6                               [[James Starks, RB]]       62.000000\n",
      "23    23  [[Josh Robinson, RB], [Damien Williams, RB], [...       59.840000\n",
      "38    39  [[Lance Dunbar, RB], [Dion Lewis, RB], [Javori...       54.825000\n",
      "13    13  [[Fred Jackson, RB], [Chris Johnson, RB], [Bra...       50.562500\n",
      "8      8  [[Mychal Rivera, TE], [Brent Celek, TE], [Cliv...       46.983333\n",
      "1      1  [[DeAngelo Williams, RB], [Antonio Andrews, RB...       46.533333\n",
      "42    44  [[Garrett Graham, TE], [Terrance West, RB], [D...       45.550000\n",
      "40    42  [[Jacquizz Rodgers, RB], [James O'Shaughnessy,...       38.050000\n",
      "24    24  [[Karlos Williams, RB], [Marcedes Lewis, TE], ...       31.620000\n",
      "12    12  [[Jeremy Langford, RB], [Darrel Young, RB], [E...       30.586667\n",
      "33    33  [[Bruce Miller, RB], [David Cobb, RB], [Chris ...       25.923077\n",
      "4      4  [[Derrick Coleman, RB], [Matt Asiata, RB], [Br...       18.645455\n",
      "35    36  [[Jay Prosch, RB], [Patrick DiMarco, RB], [Ter...       13.113333\n",
      "10    10  [[Will Johnson, RB], [AJ McCarron, QB], [Blain...        8.130000\n",
      "32    32  [[David Johnson, TE], [David Johnson, TE], [Ry...        7.179412\n",
      "36    37  [[Kellen Clemens, QB], [Matt Moore, QB], [Bern...        0.647059\n",
      "This is my final draft recommendation. The players in the same tier should be worth the same. For example,\n",
      "Andrew Luck from the Tier 19 should perform similar to Aaron Rodgers. If a player picks Andrew Luck as their\n",
      "first pick, you can pick Aaron Rodgers since they are supposed to perform similarly.\n"
     ]
    }
   ],
   "source": [
    "GaussDF = finalFrame\n",
    "#GaussDF.drop('Rank',axis=1,inplace=True)\n",
    "GaussDF['Tier'] = tiers\n",
    "fantasyP2 = GaussDF['fantasy_points'].groupby(GaussDF['Tier']).mean()\n",
    "\n",
    "mydict2 = {}\n",
    "for x in range(len(GaussDF)):\n",
    "    currentTier = GaussDF.iloc[x,5]\n",
    "    currentvalue = GaussDF.iloc[x,[0,2]]\n",
    "    mydict2.setdefault(currentTier, [])\n",
    "    mydict2[currentTier].append(currentvalue)\n",
    "\n",
    "\n",
    "dictDF2 = pd.DataFrame([[key,value] for key,value in mydict2.items()],columns=[\"Tier\",\"player\"])\n",
    "dictDF2['fantasy_points'] = [x for x in fantasyP2 if x != np.nan]\n",
    "dictDF2.sort_values(by='fantasy_points',axis=0,ascending=False,inplace=True)\n",
    "print dictDF2\n",
    "print \"This is my final draft recommendation. The players in the same tier should be worth the same. For example,\"\n",
    "print \"Andrew Luck from the Tier 19 should perform similar to Aaron Rodgers. If a player picks Andrew Luck as their\"\n",
    "print \"first pick, you can pick Aaron Rodgers since they are supposed to perform similarly.\""
   ]
  },
  {
   "cell_type": "markdown",
   "metadata": {},
   "source": [
    "# Executive Summary\n",
    "\n",
    "The goal of this project is to provide recommendations for your NFL fantasy league. My initial idea was to scrap data from a website that gives each NFL offensive player's statistics from 2014 and use that data to come up with best predictive model to pick the best players. The success criteria of the model is to have a better R^2 value than the expert's projections. The expert's projections were scraped from fantasypros.com. The R^2 value from the experts compared to the actual results was 0.6. Therefore, I needed to come up with a model that gives better R^2 value than 0.6. The models that I tried was linear regression, Lasso linear regression, Decision Tree Regressor with optimized depth, and Random Forest Regressor. However, the R^2 value for the QB position and RB position was significantly weaker than the expert's projection. The shortcomings from the model comes from less lack variety in the features. There are more factors that will affect the player's performance in the next season. Therefore, it is safe to conclude that the previous year's performances cannot predict better results on player's performance on next year's season. Next steps that I took was to take the projections made by the experts and cluster them into ranks or tiers. The idea was to group players with similar qualities into ranks or tiers. Since the draft order is sequential for league players, it is easier to distinguish whether one player predicted to perform similarly to other players. I used three clustering algorithms: DBSCAN, K-Means, and Gaussian Mixture Model. DBSCAN did not perform very well since all the points were so close to each other. K-Means clustering did not work well since the type of data that I had was not hyper-spherical. Gaussian Mixture Model successfully grouped these players into tiers of similar qualities. In order to improve my original predictive models, I need to have different features such as team ranking, injuries, and research other unknown features that might be impactful. More research and analysis on how other experts predict the next year's performances in order to select the best features for the model. For the clustering algorithms, having more features would cluster them into groups more evenly. Splitting the clustering by different positions would provide a nice insight on how you should draft players as well."
   ]
  },
  {
   "cell_type": "markdown",
   "metadata": {
    "collapsed": true
   },
   "source": [
    "MG:\n",
    "\n",
    "Part 2 Score |  22/21\n",
    "-------|-----\n",
    "Identify: Articulate Problem Statement/Specific goals & success criteria        |        3\n",
    "Identify: Outline proposed methods & models        | 3 \n",
    "Parse: Identify risks & assumptions                | 3\n",
    "Parse: Create local PostgreSQL database            | 3\n",
    "Parse: Query, Sort, & Clean Data                | 3\n",
    "Parse: Create a Data Dictionary                | 3\n",
    "Mine: Perform & summarize EDA                | 3\n",
    "Bonus! Refine: Explain how you intend to tune & evaluate your results | 1\n",
    "\n",
    "Part 3 Score |  12/15\n",
    "-------|-----\n",
    "Mine: Correlate data & run statistical analysis        | 3\n",
    "Refine: Plot data w visual analysis                | 3\n",
    "Model: Run model on data (train subset as needed)            | 2\n",
    "Present: Summarize approach & initial results                | 2\n",
    "Present: Describe successes, setbacks, & lessons learned  | 2\n",
    "Bonus: Use 2 or more dataviz tools | 0"
   ]
  },
  {
   "cell_type": "code",
   "execution_count": null,
   "metadata": {
    "collapsed": false
   },
   "outputs": [],
   "source": [
    "GaussDF"
   ]
  },
  {
   "cell_type": "markdown",
   "metadata": {
    "collapsed": true
   },
   "source": []
  }
 ],
 "metadata": {
  "kernelspec": {
   "display_name": "Python 2",
   "language": "python",
   "name": "python2"
  },
  "language_info": {
   "codemirror_mode": {
    "name": "ipython",
    "version": 2
   },
   "file_extension": ".py",
   "mimetype": "text/x-python",
   "name": "python",
   "nbconvert_exporter": "python",
   "pygments_lexer": "ipython2",
   "version": "2.7.12"
  }
 },
 "nbformat": 4,
 "nbformat_minor": 0
}
